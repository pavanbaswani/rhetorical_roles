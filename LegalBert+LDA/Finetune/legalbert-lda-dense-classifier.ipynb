{
 "cells": [
  {
   "cell_type": "markdown",
   "id": "6d3257fe",
   "metadata": {
    "papermill": {
     "duration": 0.012573,
     "end_time": "2023-02-27T09:21:18.256305",
     "exception": false,
     "start_time": "2023-02-27T09:21:18.243732",
     "status": "completed"
    },
    "tags": []
   },
   "source": [
    "## Installing necessary packages"
   ]
  },
  {
   "cell_type": "code",
   "execution_count": 1,
   "id": "e0549c15",
   "metadata": {
    "execution": {
     "iopub.execute_input": "2023-02-27T09:21:18.280224Z",
     "iopub.status.busy": "2023-02-27T09:21:18.279593Z",
     "iopub.status.idle": "2023-02-27T09:21:38.481189Z",
     "shell.execute_reply": "2023-02-27T09:21:38.479783Z"
    },
    "papermill": {
     "duration": 20.216684,
     "end_time": "2023-02-27T09:21:38.483989",
     "exception": false,
     "start_time": "2023-02-27T09:21:18.267305",
     "status": "completed"
    },
    "tags": []
   },
   "outputs": [
    {
     "name": "stdout",
     "output_type": "stream",
     "text": [
      "\u001b[33mWARNING: Running pip as the 'root' user can result in broken permissions and conflicting behaviour with the system package manager. It is recommended to use a virtual environment instead: https://pip.pypa.io/warnings/venv\u001b[0m\u001b[33m\r\n",
      "\u001b[0m\u001b[33mWARNING: Running pip as the 'root' user can result in broken permissions and conflicting behaviour with the system package manager. It is recommended to use a virtual environment instead: https://pip.pypa.io/warnings/venv\u001b[0m\u001b[33m\r\n",
      "\u001b[0m"
     ]
    }
   ],
   "source": [
    "!pip install transformers --q\n",
    "!pip install gensim --q"
   ]
  },
  {
   "cell_type": "markdown",
   "id": "179c074a",
   "metadata": {
    "_cell_guid": "b1076dfc-b9ad-4769-8c92-a6c4dae69d19",
    "_uuid": "8f2839f25d086af736a60e9eeb907d3b93b6e0e5",
    "papermill": {
     "duration": 0.010545,
     "end_time": "2023-02-27T09:21:38.505669",
     "exception": false,
     "start_time": "2023-02-27T09:21:38.495124",
     "status": "completed"
    },
    "tags": []
   },
   "source": [
    "## Importing necessary packages"
   ]
  },
  {
   "cell_type": "code",
   "execution_count": 2,
   "id": "61a5e590",
   "metadata": {
    "execution": {
     "iopub.execute_input": "2023-02-27T09:21:38.530720Z",
     "iopub.status.busy": "2023-02-27T09:21:38.529586Z",
     "iopub.status.idle": "2023-02-27T09:21:49.348416Z",
     "shell.execute_reply": "2023-02-27T09:21:49.347171Z"
    },
    "papermill": {
     "duration": 10.834362,
     "end_time": "2023-02-27T09:21:49.350944",
     "exception": false,
     "start_time": "2023-02-27T09:21:38.516582",
     "status": "completed"
    },
    "tags": []
   },
   "outputs": [],
   "source": [
    "import pandas as pd\n",
    "import numpy as np\n",
    "from numpy import zeros\n",
    "\n",
    "from tqdm import tqdm\n",
    "from gensim import corpora\n",
    "import gensim\n",
    "\n",
    "\n",
    "import json\n",
    "import torch\n",
    "\n",
    "from transformers import AutoModel, AutoTokenizer\n",
    "from sklearn.preprocessing import LabelEncoder\n",
    "from sklearn.metrics import accuracy_score, f1_score\n",
    "\n",
    "\n",
    "import torch as th\n",
    "from transformers import AutoModel, AutoTokenizer\n",
    "import torch.utils.data as Data\n",
    "from torch.optim import lr_scheduler\n",
    "import torch.nn.functional as F\n",
    "\n",
    "import matplotlib.pyplot as plt\n",
    "%matplotlib inline"
   ]
  },
  {
   "cell_type": "markdown",
   "id": "7a7a638f",
   "metadata": {
    "papermill": {
     "duration": 0.010782,
     "end_time": "2023-02-27T09:21:49.373019",
     "exception": false,
     "start_time": "2023-02-27T09:21:49.362237",
     "status": "completed"
    },
    "tags": []
   },
   "source": [
    "## Parameters"
   ]
  },
  {
   "cell_type": "code",
   "execution_count": 3,
   "id": "bdbf4f85",
   "metadata": {
    "execution": {
     "iopub.execute_input": "2023-02-27T09:21:49.396758Z",
     "iopub.status.busy": "2023-02-27T09:21:49.396008Z",
     "iopub.status.idle": "2023-02-27T09:21:49.401674Z",
     "shell.execute_reply": "2023-02-27T09:21:49.400563Z"
    },
    "papermill": {
     "duration": 0.020089,
     "end_time": "2023-02-27T09:21:49.403901",
     "exception": false,
     "start_time": "2023-02-27T09:21:49.383812",
     "status": "completed"
    },
    "tags": []
   },
   "outputs": [],
   "source": [
    "sequence_length = 256\n",
    "embedding_dim = 256\n",
    "batch_size = 32\n",
    "epochs = 4\n",
    "model_name = 'nlpaueb/legal-bert-base-uncased'\n",
    "output_type = 'mean_pooled' # by default CLS"
   ]
  },
  {
   "cell_type": "markdown",
   "id": "9811cf24",
   "metadata": {
    "papermill": {
     "duration": 0.010758,
     "end_time": "2023-02-27T09:21:49.426295",
     "exception": false,
     "start_time": "2023-02-27T09:21:49.415537",
     "status": "completed"
    },
    "tags": []
   },
   "source": [
    "## Dataset Loader"
   ]
  },
  {
   "cell_type": "markdown",
   "id": "8946ebf6",
   "metadata": {
    "papermill": {
     "duration": 0.010698,
     "end_time": "2023-02-27T09:21:49.448080",
     "exception": false,
     "start_time": "2023-02-27T09:21:49.437382",
     "status": "completed"
    },
    "tags": []
   },
   "source": [
    "#### Training dataset"
   ]
  },
  {
   "cell_type": "code",
   "execution_count": 4,
   "id": "8f2a6b0e",
   "metadata": {
    "execution": {
     "iopub.execute_input": "2023-02-27T09:21:49.471841Z",
     "iopub.status.busy": "2023-02-27T09:21:49.471418Z",
     "iopub.status.idle": "2023-02-27T09:21:49.659346Z",
     "shell.execute_reply": "2023-02-27T09:21:49.658210Z"
    },
    "papermill": {
     "duration": 0.202819,
     "end_time": "2023-02-27T09:21:49.661872",
     "exception": false,
     "start_time": "2023-02-27T09:21:49.459053",
     "status": "completed"
    },
    "tags": []
   },
   "outputs": [
    {
     "name": "stdout",
     "output_type": "stream",
     "text": [
      "# Size:  (28836, 3)\n"
     ]
    },
    {
     "data": {
      "text/html": [
       "<div>\n",
       "<style scoped>\n",
       "    .dataframe tbody tr th:only-of-type {\n",
       "        vertical-align: middle;\n",
       "    }\n",
       "\n",
       "    .dataframe tbody tr th {\n",
       "        vertical-align: top;\n",
       "    }\n",
       "\n",
       "    .dataframe thead th {\n",
       "        text-align: right;\n",
       "    }\n",
       "</style>\n",
       "<table border=\"1\" class=\"dataframe\">\n",
       "  <thead>\n",
       "    <tr style=\"text-align: right;\">\n",
       "      <th></th>\n",
       "      <th>Unnamed: 0</th>\n",
       "      <th>sentence</th>\n",
       "      <th>label</th>\n",
       "    </tr>\n",
       "  </thead>\n",
       "  <tbody>\n",
       "    <tr>\n",
       "      <th>0</th>\n",
       "      <td>0</td>\n",
       "      <td>IN THE HIGH COURT OF KARNATAKA,\\n       ...</td>\n",
       "      <td>PREAMBLE</td>\n",
       "    </tr>\n",
       "    <tr>\n",
       "      <th>1</th>\n",
       "      <td>1</td>\n",
       "      <td>\\n\\n      BEFORE\\n\\nTHE HON'BLE MR.JUSTICE ANA...</td>\n",
       "      <td>PREAMBLE</td>\n",
       "    </tr>\n",
       "    <tr>\n",
       "      <th>2</th>\n",
       "      <td>2</td>\n",
       "      <td>This Criminal Appeal is filed under Section 37...</td>\n",
       "      <td>PREAMBLE</td>\n",
       "    </tr>\n",
       "    <tr>\n",
       "      <th>3</th>\n",
       "      <td>3</td>\n",
       "      <td>\\n\\n       This appeal coming on for hearing t...</td>\n",
       "      <td>PREAMBLE</td>\n",
       "    </tr>\n",
       "    <tr>\n",
       "      <th>4</th>\n",
       "      <td>4</td>\n",
       "      <td>\\n       Heard the learned Counsel for the app...</td>\n",
       "      <td>NONE</td>\n",
       "    </tr>\n",
       "  </tbody>\n",
       "</table>\n",
       "</div>"
      ],
      "text/plain": [
       "   Unnamed: 0                                           sentence     label\n",
       "0           0        IN THE HIGH COURT OF KARNATAKA,\\n       ...  PREAMBLE\n",
       "1           1  \\n\\n      BEFORE\\n\\nTHE HON'BLE MR.JUSTICE ANA...  PREAMBLE\n",
       "2           2  This Criminal Appeal is filed under Section 37...  PREAMBLE\n",
       "3           3  \\n\\n       This appeal coming on for hearing t...  PREAMBLE\n",
       "4           4  \\n       Heard the learned Counsel for the app...      NONE"
      ]
     },
     "execution_count": 4,
     "metadata": {},
     "output_type": "execute_result"
    }
   ],
   "source": [
    "train_df = pd.read_csv('../../data/model_data/train_df.csv')\n",
    "print(\"# Size: \", train_df.shape)\n",
    "train_df.head()"
   ]
  },
  {
   "cell_type": "code",
   "execution_count": 5,
   "id": "723ea849",
   "metadata": {
    "execution": {
     "iopub.execute_input": "2023-02-27T09:21:49.687510Z",
     "iopub.status.busy": "2023-02-27T09:21:49.686385Z",
     "iopub.status.idle": "2023-02-27T09:21:49.700099Z",
     "shell.execute_reply": "2023-02-27T09:21:49.699021Z"
    },
    "papermill": {
     "duration": 0.029826,
     "end_time": "2023-02-27T09:21:49.703447",
     "exception": false,
     "start_time": "2023-02-27T09:21:49.673621",
     "status": "completed"
    },
    "tags": []
   },
   "outputs": [
    {
     "name": "stdout",
     "output_type": "stream",
     "text": [
      "#Nan in sents:  0\n",
      "#Nan in labels:  0\n"
     ]
    }
   ],
   "source": [
    "print(\"#Nan in sents: \", train_df.sentence.isnull().values.sum())\n",
    "print(\"#Nan in labels: \", train_df.label.isnull().values.sum())"
   ]
  },
  {
   "cell_type": "code",
   "execution_count": 6,
   "id": "421ca6f4",
   "metadata": {
    "execution": {
     "iopub.execute_input": "2023-02-27T09:21:49.728944Z",
     "iopub.status.busy": "2023-02-27T09:21:49.727978Z",
     "iopub.status.idle": "2023-02-27T09:21:49.740707Z",
     "shell.execute_reply": "2023-02-27T09:21:49.739671Z"
    },
    "papermill": {
     "duration": 0.027651,
     "end_time": "2023-02-27T09:21:49.742930",
     "exception": false,
     "start_time": "2023-02-27T09:21:49.715279",
     "status": "completed"
    },
    "tags": []
   },
   "outputs": [
    {
     "data": {
      "text/plain": [
       "ANALYSIS          10623\n",
       "FAC                5688\n",
       "PREAMBLE           4164\n",
       "PRE_RELIED         1431\n",
       "NONE               1421\n",
       "ARG_PETITIONER     1312\n",
       "RPC                1080\n",
       "RLC                 741\n",
       "ARG_RESPONDENT      698\n",
       "RATIO               672\n",
       "STA                 481\n",
       "ISSUE               367\n",
       "PRE_NOT_RELIED      158\n",
       "Name: label, dtype: int64"
      ]
     },
     "execution_count": 6,
     "metadata": {},
     "output_type": "execute_result"
    }
   ],
   "source": [
    "train_df.label.value_counts()"
   ]
  },
  {
   "cell_type": "code",
   "execution_count": null,
   "id": "2e3e334c",
   "metadata": {
    "papermill": {
     "duration": 0.01098,
     "end_time": "2023-02-27T09:21:49.765168",
     "exception": false,
     "start_time": "2023-02-27T09:21:49.754188",
     "status": "completed"
    },
    "tags": []
   },
   "outputs": [],
   "source": []
  },
  {
   "cell_type": "markdown",
   "id": "862a8c99",
   "metadata": {
    "papermill": {
     "duration": 0.011334,
     "end_time": "2023-02-27T09:21:49.788176",
     "exception": false,
     "start_time": "2023-02-27T09:21:49.776842",
     "status": "completed"
    },
    "tags": []
   },
   "source": [
    "#### Validation dataset"
   ]
  },
  {
   "cell_type": "code",
   "execution_count": 7,
   "id": "dfe9ca80",
   "metadata": {
    "execution": {
     "iopub.execute_input": "2023-02-27T09:21:49.817462Z",
     "iopub.status.busy": "2023-02-27T09:21:49.815570Z",
     "iopub.status.idle": "2023-02-27T09:21:49.849668Z",
     "shell.execute_reply": "2023-02-27T09:21:49.848580Z"
    },
    "papermill": {
     "duration": 0.052391,
     "end_time": "2023-02-27T09:21:49.852094",
     "exception": false,
     "start_time": "2023-02-27T09:21:49.799703",
     "status": "completed"
    },
    "tags": []
   },
   "outputs": [
    {
     "name": "stdout",
     "output_type": "stream",
     "text": [
      "# Size:  (2890, 3)\n"
     ]
    },
    {
     "data": {
      "text/html": [
       "<div>\n",
       "<style scoped>\n",
       "    .dataframe tbody tr th:only-of-type {\n",
       "        vertical-align: middle;\n",
       "    }\n",
       "\n",
       "    .dataframe tbody tr th {\n",
       "        vertical-align: top;\n",
       "    }\n",
       "\n",
       "    .dataframe thead th {\n",
       "        text-align: right;\n",
       "    }\n",
       "</style>\n",
       "<table border=\"1\" class=\"dataframe\">\n",
       "  <thead>\n",
       "    <tr style=\"text-align: right;\">\n",
       "      <th></th>\n",
       "      <th>Unnamed: 0</th>\n",
       "      <th>sentence</th>\n",
       "      <th>label</th>\n",
       "    </tr>\n",
       "  </thead>\n",
       "  <tbody>\n",
       "    <tr>\n",
       "      <th>0</th>\n",
       "      <td>0</td>\n",
       "      <td>PETITIONER:\\nTHE COMMISSIONER OF INCOME-TAXNEW...</td>\n",
       "      <td>PREAMBLE</td>\n",
       "    </tr>\n",
       "    <tr>\n",
       "      <th>1</th>\n",
       "      <td>1</td>\n",
       "      <td>\\n\\nDATE OF JUDGMENT:\\n05/05/1961\\n\\nBENCH:\\nD...</td>\n",
       "      <td>PREAMBLE</td>\n",
       "    </tr>\n",
       "    <tr>\n",
       "      <th>2</th>\n",
       "      <td>2</td>\n",
       "      <td>\\nBENCH:\\nDAS, S.K.\\nHIDAYATULLAH, M.\\nSHAH, J...</td>\n",
       "      <td>PREAMBLE</td>\n",
       "    </tr>\n",
       "    <tr>\n",
       "      <th>3</th>\n",
       "      <td>3</td>\n",
       "      <td>It\\nentered into transactions in the nature of...</td>\n",
       "      <td>PREAMBLE</td>\n",
       "    </tr>\n",
       "    <tr>\n",
       "      <th>4</th>\n",
       "      <td>4</td>\n",
       "      <td>The assessee claimed deduction of these\\nlosse...</td>\n",
       "      <td>PREAMBLE</td>\n",
       "    </tr>\n",
       "  </tbody>\n",
       "</table>\n",
       "</div>"
      ],
      "text/plain": [
       "   Unnamed: 0                                           sentence     label\n",
       "0           0  PETITIONER:\\nTHE COMMISSIONER OF INCOME-TAXNEW...  PREAMBLE\n",
       "1           1  \\n\\nDATE OF JUDGMENT:\\n05/05/1961\\n\\nBENCH:\\nD...  PREAMBLE\n",
       "2           2  \\nBENCH:\\nDAS, S.K.\\nHIDAYATULLAH, M.\\nSHAH, J...  PREAMBLE\n",
       "3           3  It\\nentered into transactions in the nature of...  PREAMBLE\n",
       "4           4  The assessee claimed deduction of these\\nlosse...  PREAMBLE"
      ]
     },
     "execution_count": 7,
     "metadata": {},
     "output_type": "execute_result"
    }
   ],
   "source": [
    "dev_df = pd.read_csv('../../data/model_data/dev_df.csv')\n",
    "print(\"# Size: \", dev_df.shape)\n",
    "dev_df.head()"
   ]
  },
  {
   "cell_type": "code",
   "execution_count": 8,
   "id": "d4639471",
   "metadata": {
    "execution": {
     "iopub.execute_input": "2023-02-27T09:21:49.876762Z",
     "iopub.status.busy": "2023-02-27T09:21:49.876360Z",
     "iopub.status.idle": "2023-02-27T09:21:49.885576Z",
     "shell.execute_reply": "2023-02-27T09:21:49.884632Z"
    },
    "papermill": {
     "duration": 0.024465,
     "end_time": "2023-02-27T09:21:49.888163",
     "exception": false,
     "start_time": "2023-02-27T09:21:49.863698",
     "status": "completed"
    },
    "tags": []
   },
   "outputs": [
    {
     "name": "stdout",
     "output_type": "stream",
     "text": [
      "#Nan in sents:  0\n",
      "#Nan in labels:  0\n"
     ]
    }
   ],
   "source": [
    "print(\"#Nan in sents: \", dev_df.sentence.isnull().values.sum())\n",
    "print(\"#Nan in labels: \", dev_df.label.isnull().values.sum())"
   ]
  },
  {
   "cell_type": "code",
   "execution_count": 9,
   "id": "c3ffeaac",
   "metadata": {
    "execution": {
     "iopub.execute_input": "2023-02-27T09:21:49.918682Z",
     "iopub.status.busy": "2023-02-27T09:21:49.916469Z",
     "iopub.status.idle": "2023-02-27T09:21:49.929033Z",
     "shell.execute_reply": "2023-02-27T09:21:49.928025Z"
    },
    "papermill": {
     "duration": 0.030982,
     "end_time": "2023-02-27T09:21:49.931221",
     "exception": false,
     "start_time": "2023-02-27T09:21:49.900239",
     "status": "completed"
    },
    "tags": []
   },
   "outputs": [
    {
     "data": {
      "text/plain": [
       "ANALYSIS          986\n",
       "FAC               581\n",
       "PREAMBLE          509\n",
       "NONE              192\n",
       "PRE_RELIED        142\n",
       "RLC               116\n",
       "RPC                92\n",
       "RATIO              72\n",
       "ARG_PETITIONER     70\n",
       "ISSUE              51\n",
       "ARG_RESPONDENT     38\n",
       "STA                29\n",
       "PRE_NOT_RELIED     12\n",
       "Name: label, dtype: int64"
      ]
     },
     "execution_count": 9,
     "metadata": {},
     "output_type": "execute_result"
    }
   ],
   "source": [
    "dev_df.label.value_counts()"
   ]
  },
  {
   "cell_type": "code",
   "execution_count": null,
   "id": "a1b61826",
   "metadata": {
    "papermill": {
     "duration": 0.011613,
     "end_time": "2023-02-27T09:21:49.954709",
     "exception": false,
     "start_time": "2023-02-27T09:21:49.943096",
     "status": "completed"
    },
    "tags": []
   },
   "outputs": [],
   "source": []
  },
  {
   "cell_type": "markdown",
   "id": "b031e9b6",
   "metadata": {
    "papermill": {
     "duration": 0.011726,
     "end_time": "2023-02-27T09:21:49.978502",
     "exception": false,
     "start_time": "2023-02-27T09:21:49.966776",
     "status": "completed"
    },
    "tags": []
   },
   "source": [
    "#### Reading labels"
   ]
  },
  {
   "cell_type": "code",
   "execution_count": 10,
   "id": "eed1211f",
   "metadata": {
    "execution": {
     "iopub.execute_input": "2023-02-27T09:21:50.004064Z",
     "iopub.status.busy": "2023-02-27T09:21:50.003674Z",
     "iopub.status.idle": "2023-02-27T09:21:50.034929Z",
     "shell.execute_reply": "2023-02-27T09:21:50.027544Z"
    },
    "papermill": {
     "duration": 0.049576,
     "end_time": "2023-02-27T09:21:50.039816",
     "exception": false,
     "start_time": "2023-02-27T09:21:49.990240",
     "status": "completed"
    },
    "tags": []
   },
   "outputs": [
    {
     "name": "stdout",
     "output_type": "stream",
     "text": [
      "['ANALYSIS' 'ARG_PETITIONER' 'ARG_RESPONDENT' 'FAC' 'ISSUE' 'NONE'\n",
      " 'PREAMBLE' 'PRE_NOT_RELIED' 'PRE_RELIED' 'RATIO' 'RLC' 'RPC' 'STA']\n"
     ]
    }
   ],
   "source": [
    "le_encoder = LabelEncoder()\n",
    "le_encoder.fit(list(train_df.label.values) + list(dev_df.label.values))\n",
    "\n",
    "label_names = le_encoder.classes_\n",
    "print(label_names)"
   ]
  },
  {
   "cell_type": "code",
   "execution_count": 11,
   "id": "e184ffd5",
   "metadata": {
    "execution": {
     "iopub.execute_input": "2023-02-27T09:21:50.090796Z",
     "iopub.status.busy": "2023-02-27T09:21:50.090109Z",
     "iopub.status.idle": "2023-02-27T09:21:50.113074Z",
     "shell.execute_reply": "2023-02-27T09:21:50.111826Z"
    },
    "papermill": {
     "duration": 0.051928,
     "end_time": "2023-02-27T09:21:50.118301",
     "exception": false,
     "start_time": "2023-02-27T09:21:50.066373",
     "status": "completed"
    },
    "tags": []
   },
   "outputs": [
    {
     "name": "stdout",
     "output_type": "stream",
     "text": [
      "['ANALYSIS', 'ARG_PETITIONER', 'ARG_RESPONDENT', 'FAC', 'ISSUE', 'NONE', 'PREAMBLE', 'PRE_NOT_RELIED', 'PRE_RELIED', 'RATIO', 'RLC', 'RPC', 'STA']\n"
     ]
    }
   ],
   "source": [
    "ID_Label_Map = {}\n",
    "with open('../../data/model_data/ID_Label_Map.json', 'r') as fp:\n",
    "    ID_Label_Map = json.load(fp)\n",
    "\n",
    "Label_ID_Map = {}\n",
    "with open('../../data/model_data/Label_ID_Map.json', 'r') as fp:\n",
    "    Label_ID_Map = json.load(fp)\n",
    "\n",
    "print(list(Label_ID_Map.keys()))"
   ]
  },
  {
   "cell_type": "code",
   "execution_count": 12,
   "id": "7fa1265c",
   "metadata": {
    "execution": {
     "iopub.execute_input": "2023-02-27T09:21:50.172091Z",
     "iopub.status.busy": "2023-02-27T09:21:50.171487Z",
     "iopub.status.idle": "2023-02-27T09:21:50.214801Z",
     "shell.execute_reply": "2023-02-27T09:21:50.213677Z"
    },
    "papermill": {
     "duration": 0.06848,
     "end_time": "2023-02-27T09:21:50.218132",
     "exception": false,
     "start_time": "2023-02-27T09:21:50.149652",
     "status": "completed"
    },
    "tags": []
   },
   "outputs": [
    {
     "name": "stdout",
     "output_type": "stream",
     "text": [
      "# Labels:  28836\n"
     ]
    }
   ],
   "source": [
    "train_labels = le_encoder.transform(list(train_df.label.values))\n",
    "print(\"# Labels: \", len(train_labels))"
   ]
  },
  {
   "cell_type": "code",
   "execution_count": 13,
   "id": "38612319",
   "metadata": {
    "execution": {
     "iopub.execute_input": "2023-02-27T09:21:50.255113Z",
     "iopub.status.busy": "2023-02-27T09:21:50.254562Z",
     "iopub.status.idle": "2023-02-27T09:21:50.266665Z",
     "shell.execute_reply": "2023-02-27T09:21:50.265708Z"
    },
    "papermill": {
     "duration": 0.034791,
     "end_time": "2023-02-27T09:21:50.270774",
     "exception": false,
     "start_time": "2023-02-27T09:21:50.235983",
     "status": "completed"
    },
    "tags": []
   },
   "outputs": [
    {
     "name": "stdout",
     "output_type": "stream",
     "text": [
      "# Labels:  2890\n"
     ]
    }
   ],
   "source": [
    "dev_labels = le_encoder.transform(list(dev_df.label.values))\n",
    "print(\"# Labels: \", len(dev_labels))"
   ]
  },
  {
   "cell_type": "code",
   "execution_count": 14,
   "id": "4d4a7429",
   "metadata": {
    "execution": {
     "iopub.execute_input": "2023-02-27T09:21:50.307855Z",
     "iopub.status.busy": "2023-02-27T09:21:50.307228Z",
     "iopub.status.idle": "2023-02-27T09:21:50.313579Z",
     "shell.execute_reply": "2023-02-27T09:21:50.312612Z"
    },
    "papermill": {
     "duration": 0.029653,
     "end_time": "2023-02-27T09:21:50.318248",
     "exception": false,
     "start_time": "2023-02-27T09:21:50.288595",
     "status": "completed"
    },
    "tags": []
   },
   "outputs": [],
   "source": [
    "dev_sentences = list(dev_df.sentence.values)\n",
    "dev_actual_labels = list(dev_df.label.values)"
   ]
  },
  {
   "cell_type": "code",
   "execution_count": null,
   "id": "bec33dfb",
   "metadata": {
    "papermill": {
     "duration": 0.017044,
     "end_time": "2023-02-27T09:21:50.352912",
     "exception": false,
     "start_time": "2023-02-27T09:21:50.335868",
     "status": "completed"
    },
    "tags": []
   },
   "outputs": [],
   "source": []
  },
  {
   "cell_type": "markdown",
   "id": "f4a71b54",
   "metadata": {
    "papermill": {
     "duration": 0.016929,
     "end_time": "2023-02-27T09:21:50.387157",
     "exception": false,
     "start_time": "2023-02-27T09:21:50.370228",
     "status": "completed"
    },
    "tags": []
   },
   "source": [
    "### Preparing the data loader for bert classifier"
   ]
  },
  {
   "cell_type": "code",
   "execution_count": 15,
   "id": "ed850dc9",
   "metadata": {
    "execution": {
     "iopub.execute_input": "2023-02-27T09:21:50.423905Z",
     "iopub.status.busy": "2023-02-27T09:21:50.423487Z",
     "iopub.status.idle": "2023-02-27T09:21:50.493125Z",
     "shell.execute_reply": "2023-02-27T09:21:50.491911Z"
    },
    "papermill": {
     "duration": 0.090821,
     "end_time": "2023-02-27T09:21:50.495330",
     "exception": false,
     "start_time": "2023-02-27T09:21:50.404509",
     "status": "completed"
    },
    "tags": []
   },
   "outputs": [],
   "source": [
    "device = torch.device('cuda' if torch.cuda.is_available() else 'cpu')"
   ]
  },
  {
   "cell_type": "code",
   "execution_count": 16,
   "id": "7bdca8a5",
   "metadata": {
    "execution": {
     "iopub.execute_input": "2023-02-27T09:21:50.531642Z",
     "iopub.status.busy": "2023-02-27T09:21:50.531179Z",
     "iopub.status.idle": "2023-02-27T09:21:50.543073Z",
     "shell.execute_reply": "2023-02-27T09:21:50.542024Z"
    },
    "papermill": {
     "duration": 0.032983,
     "end_time": "2023-02-27T09:21:50.545797",
     "exception": false,
     "start_time": "2023-02-27T09:21:50.512814",
     "status": "completed"
    },
    "tags": []
   },
   "outputs": [],
   "source": [
    "def encode_input_lda(token_lists, n_classes):\n",
    "    dictionary = corpora.Dictionary(token_lists)\n",
    "    \n",
    "    corpus = [dictionary.doc2bow(text) for text in token_lists]\n",
    "    n_doc = len(corpus)\n",
    "    \n",
    "    ldamodel = gensim.models.ldamodel.LdaModel(corpus, num_topics = n_classes, id2word = dictionary, passes=20)\n",
    "    \n",
    "    vec_lda = np.zeros((n_doc, n_classes))\n",
    "    for i in tqdm(range(n_doc)):\n",
    "\n",
    "        # get the distribution for the i-th document in corpus\n",
    "        for topic, prob in ldamodel.get_document_topics(corpus[i]):\n",
    "            vec_lda[i, topic] = prob\n",
    "\n",
    "    return vec_lda"
   ]
  },
  {
   "cell_type": "code",
   "execution_count": 17,
   "id": "76ff19e2",
   "metadata": {
    "execution": {
     "iopub.execute_input": "2023-02-27T09:21:50.585863Z",
     "iopub.status.busy": "2023-02-27T09:21:50.585421Z",
     "iopub.status.idle": "2023-02-27T09:21:50.594648Z",
     "shell.execute_reply": "2023-02-27T09:21:50.593459Z"
    },
    "papermill": {
     "duration": 0.034438,
     "end_time": "2023-02-27T09:21:50.599116",
     "exception": false,
     "start_time": "2023-02-27T09:21:50.564678",
     "status": "completed"
    },
    "tags": []
   },
   "outputs": [],
   "source": [
    "def encode_input(text, tokenizer):\n",
    "    tokenized_text = tokenizer(\n",
    "        text,\n",
    "        max_length = sequence_length,\n",
    "        padding='max_length',\n",
    "        truncation=True,\n",
    "        return_tensors='pt'\n",
    "    )\n",
    "    return tokenized_text.input_ids, tokenized_text.attention_mask"
   ]
  },
  {
   "cell_type": "code",
   "execution_count": null,
   "id": "36f0159c",
   "metadata": {
    "papermill": {
     "duration": 0.011598,
     "end_time": "2023-02-27T09:21:50.629543",
     "exception": false,
     "start_time": "2023-02-27T09:21:50.617945",
     "status": "completed"
    },
    "tags": []
   },
   "outputs": [],
   "source": []
  },
  {
   "cell_type": "markdown",
   "id": "2e299da5",
   "metadata": {
    "papermill": {
     "duration": 0.012265,
     "end_time": "2023-02-27T09:21:50.653756",
     "exception": false,
     "start_time": "2023-02-27T09:21:50.641491",
     "status": "completed"
    },
    "tags": []
   },
   "source": [
    "## Bert Model"
   ]
  },
  {
   "cell_type": "code",
   "execution_count": null,
   "id": "11ed8ed8",
   "metadata": {},
   "outputs": [],
   "source": [
    "class DenseLayer(th.nn.Module):\n",
    "    def __init__(self, bert_hidden_size, num_labels):\n",
    "        super(DenseLayer, self).__init__()\n",
    "        self.linear1 = th.nn.Linear(bert_hidden_size, 512)\n",
    "        self.linear2 = th.nn.Linear(512, 256)\n",
    "        self.linear3 = th.nn.Linear(256, num_labels)\n",
    "        self.dropout = th.nn.Dropout(0.1)\n",
    "        self.relu = th.nn.ReLU()\n",
    "        \n",
    "    def forward(self, x):\n",
    "        x = self.linear1(x)\n",
    "        x = self.dropout(x)\n",
    "        x = self.relu(x)\n",
    "        x = self.linear2(x)\n",
    "        x = self.dropout(x)\n",
    "        x = self.relu(x)\n",
    "        x = self.linear3(x)\n",
    "        return x"
   ]
  },
  {
   "cell_type": "code",
   "execution_count": 18,
   "id": "168adffd",
   "metadata": {
    "execution": {
     "iopub.execute_input": "2023-02-27T09:21:50.679770Z",
     "iopub.status.busy": "2023-02-27T09:21:50.679388Z",
     "iopub.status.idle": "2023-02-27T09:21:50.688739Z",
     "shell.execute_reply": "2023-02-27T09:21:50.687665Z"
    },
    "papermill": {
     "duration": 0.025009,
     "end_time": "2023-02-27T09:21:50.690865",
     "exception": false,
     "start_time": "2023-02-27T09:21:50.665856",
     "status": "completed"
    },
    "tags": []
   },
   "outputs": [],
   "source": [
    "class BertClassifier(th.nn.Module):\n",
    "    def __init__(self, vec_dim, pretrained_model='bert-base-uncased', nb_class=13, embedding_dim = 512):\n",
    "        super(BertClassifier, self).__init__()\n",
    "        self.nb_class = nb_class\n",
    "        self.embedding_dim = embedding_dim\n",
    "        \n",
    "        self.tokenizer = AutoTokenizer.from_pretrained(pretrained_model)\n",
    "        self.bert_model = AutoModel.from_pretrained(pretrained_model)\n",
    "        \n",
    "        self.feat_dim_1 = list(self.bert_model.modules())[-2].out_features\n",
    "        self.classifier_1 = th.nn.Linear(self.feat_dim_1, self.embedding_dim)\n",
    "        \n",
    "        self.feat_dim_2 = vec_dim\n",
    "        \n",
    "        self.classifier = DenseLayer(self.feat_dim_2 + self.embedding_dim, self.nb_class)\n",
    "\n",
    "    def forward(self, lda_vec=None, input_ids=None, attention_mask=None, output_type = 'CLS'):\n",
    "        \n",
    "        bert_output = None\n",
    "        if output_type=='mean_pooled':\n",
    "            output = self.bert_model(input_ids, attention_mask).last_hidden_state\n",
    "            \n",
    "            ### Mean Pooling\n",
    "            bert_output = output.sum(axis=1) / attention_mask.sum(axis=-1).unsqueeze(-1)\n",
    "        else:\n",
    "            bert_output = self.bert_model(input_ids, attention_mask)[0][:, 0]\n",
    "\n",
    "        bert_output = torch.squeeze(bert_output)\n",
    "        last_hidden_opt = torch.squeeze(self.classifier_1(bert_output))\n",
    "        \n",
    "        vec = torch.squeeze(lda_vec)\n",
    "        \n",
    "        last_hidden_states = th.cat((last_hidden_opt.float(), vec.float()), -1)\n",
    "        \n",
    "        logits = self.classifier(last_hidden_states)\n",
    "        \n",
    "        return logits"
   ]
  },
  {
   "cell_type": "code",
   "execution_count": null,
   "id": "8ad72507",
   "metadata": {
    "execution": {
     "iopub.execute_input": "2023-02-27T09:21:50.717022Z",
     "iopub.status.busy": "2023-02-27T09:21:50.716016Z",
     "iopub.status.idle": "2023-02-27T09:22:06.245185Z",
     "shell.execute_reply": "2023-02-27T09:22:06.244019Z"
    },
    "papermill": {
     "duration": 15.544831,
     "end_time": "2023-02-27T09:22:06.247696",
     "exception": false,
     "start_time": "2023-02-27T09:21:50.702865",
     "status": "completed"
    },
    "tags": []
   },
   "outputs": [],
   "source": [
    "model = BertClassifier(vec_dim = len(ID_Label_Map), pretrained_model = model_name, nb_class=len(ID_Label_Map), embedding_dim = embedding_dim)\n",
    "model.cuda()"
   ]
  },
  {
   "cell_type": "code",
   "execution_count": null,
   "id": "512f492f",
   "metadata": {
    "papermill": {
     "duration": 0.012646,
     "end_time": "2023-02-27T09:22:06.546421",
     "exception": false,
     "start_time": "2023-02-27T09:22:06.533775",
     "status": "completed"
    },
    "tags": []
   },
   "outputs": [],
   "source": []
  },
  {
   "cell_type": "markdown",
   "id": "d80d6644",
   "metadata": {
    "papermill": {
     "duration": 0.013199,
     "end_time": "2023-02-27T09:22:06.572813",
     "exception": false,
     "start_time": "2023-02-27T09:22:06.559614",
     "status": "completed"
    },
    "tags": []
   },
   "source": [
    "#### Preparing dataset loader for LDA"
   ]
  },
  {
   "cell_type": "code",
   "execution_count": 24,
   "id": "8930011b",
   "metadata": {
    "execution": {
     "iopub.execute_input": "2023-02-27T09:22:06.600642Z",
     "iopub.status.busy": "2023-02-27T09:22:06.600059Z",
     "iopub.status.idle": "2023-02-27T09:22:13.825109Z",
     "shell.execute_reply": "2023-02-27T09:22:13.823864Z"
    },
    "papermill": {
     "duration": 7.242289,
     "end_time": "2023-02-27T09:22:13.828146",
     "exception": false,
     "start_time": "2023-02-27T09:22:06.585857",
     "status": "completed"
    },
    "tags": []
   },
   "outputs": [
    {
     "name": "stderr",
     "output_type": "stream",
     "text": [
      "  7%|▋         | 2121/28836 [00:00<00:04, 5449.52it/s]Token indices sequence length is longer than the specified maximum sequence length for this model (634 > 512). Running this sequence through the model will result in indexing errors\n",
      "100%|██████████| 28836/28836 [00:06<00:00, 4366.30it/s]\n",
      "100%|██████████| 2890/2890 [00:00<00:00, 4828.67it/s]\n"
     ]
    }
   ],
   "source": [
    "train_tokenized_list = []\n",
    "for sent in tqdm(list(train_df.sentence.values)):\n",
    "    train_tokenized_list.append(model.tokenizer.tokenize(sent))\n",
    "\n",
    "val_tokenized_list = []\n",
    "for sent in tqdm(dev_sentences):\n",
    "    val_tokenized_list.append(model.tokenizer.tokenize(sent))"
   ]
  },
  {
   "cell_type": "code",
   "execution_count": 25,
   "id": "ff4476f6",
   "metadata": {
    "execution": {
     "iopub.execute_input": "2023-02-27T09:22:13.864811Z",
     "iopub.status.busy": "2023-02-27T09:22:13.864402Z",
     "iopub.status.idle": "2023-02-27T09:26:30.954248Z",
     "shell.execute_reply": "2023-02-27T09:26:30.953038Z"
    },
    "papermill": {
     "duration": 257.110582,
     "end_time": "2023-02-27T09:26:30.956898",
     "exception": false,
     "start_time": "2023-02-27T09:22:13.846316",
     "status": "completed"
    },
    "tags": []
   },
   "outputs": [
    {
     "name": "stdout",
     "output_type": "stream",
     "text": [
      "# Unique tokens:  12821\n",
      "# Documents:  28836\n",
      "Load gensim model\n",
      "Compute the lda vector for each document\n"
     ]
    },
    {
     "name": "stderr",
     "output_type": "stream",
     "text": [
      "100%|██████████| 28836/28836 [00:10<00:00, 2852.55it/s]\n"
     ]
    },
    {
     "name": "stdout",
     "output_type": "stream",
     "text": [
      "# Unique tokens:  5591\n",
      "# Documents:  2890\n",
      "Load gensim model\n",
      "Compute the lda vector for each document\n"
     ]
    },
    {
     "name": "stderr",
     "output_type": "stream",
     "text": [
      "100%|██████████| 2890/2890 [00:00<00:00, 3086.04it/s]\n"
     ]
    }
   ],
   "source": [
    "train_lda = encode_input_lda(train_tokenized_list, len(ID_Label_Map))\n",
    "val_lda = encode_input_lda(val_tokenized_list, len(ID_Label_Map))"
   ]
  },
  {
   "cell_type": "code",
   "execution_count": 26,
   "id": "f0dcd2f5",
   "metadata": {
    "execution": {
     "iopub.execute_input": "2023-02-27T09:26:31.004682Z",
     "iopub.status.busy": "2023-02-27T09:26:31.004306Z",
     "iopub.status.idle": "2023-02-27T09:26:31.013566Z",
     "shell.execute_reply": "2023-02-27T09:26:31.012526Z"
    },
    "papermill": {
     "duration": 0.035851,
     "end_time": "2023-02-27T09:26:31.015752",
     "exception": false,
     "start_time": "2023-02-27T09:26:30.979901",
     "status": "completed"
    },
    "tags": []
   },
   "outputs": [
    {
     "data": {
      "text/plain": [
       "(torch.Tensor, torch.Tensor, torch.Size([28836, 13]), torch.Size([2890, 13]))"
      ]
     },
     "execution_count": 26,
     "metadata": {},
     "output_type": "execute_result"
    }
   ],
   "source": [
    "train_lda = torch.from_numpy(train_lda)\n",
    "val_lda = torch.from_numpy(val_lda)\n",
    "type(train_lda), type(val_lda), train_lda.shape, val_lda.shape"
   ]
  },
  {
   "cell_type": "code",
   "execution_count": null,
   "id": "7fc91628",
   "metadata": {
    "papermill": {
     "duration": 0.022632,
     "end_time": "2023-02-27T09:26:31.061196",
     "exception": false,
     "start_time": "2023-02-27T09:26:31.038564",
     "status": "completed"
    },
    "tags": []
   },
   "outputs": [],
   "source": []
  },
  {
   "cell_type": "markdown",
   "id": "21e794e3",
   "metadata": {
    "papermill": {
     "duration": 0.023381,
     "end_time": "2023-02-27T09:26:31.107404",
     "exception": false,
     "start_time": "2023-02-27T09:26:31.084023",
     "status": "completed"
    },
    "tags": []
   },
   "source": [
    "#### Preparing dataset for bert model"
   ]
  },
  {
   "cell_type": "code",
   "execution_count": 27,
   "id": "39943335",
   "metadata": {
    "execution": {
     "iopub.execute_input": "2023-02-27T09:26:31.156985Z",
     "iopub.status.busy": "2023-02-27T09:26:31.156586Z",
     "iopub.status.idle": "2023-02-27T09:26:31.161630Z",
     "shell.execute_reply": "2023-02-27T09:26:31.160478Z"
    },
    "papermill": {
     "duration": 0.032537,
     "end_time": "2023-02-27T09:26:31.163843",
     "exception": false,
     "start_time": "2023-02-27T09:26:31.131306",
     "status": "completed"
    },
    "tags": []
   },
   "outputs": [],
   "source": [
    "input_ids, attention_mask = {}, {}"
   ]
  },
  {
   "cell_type": "code",
   "execution_count": 28,
   "id": "7c481169",
   "metadata": {
    "execution": {
     "iopub.execute_input": "2023-02-27T09:26:31.213365Z",
     "iopub.status.busy": "2023-02-27T09:26:31.212657Z",
     "iopub.status.idle": "2023-02-27T09:26:37.500781Z",
     "shell.execute_reply": "2023-02-27T09:26:37.499449Z"
    },
    "papermill": {
     "duration": 6.315004,
     "end_time": "2023-02-27T09:26:37.503354",
     "exception": false,
     "start_time": "2023-02-27T09:26:31.188350",
     "status": "completed"
    },
    "tags": []
   },
   "outputs": [
    {
     "name": "stdout",
     "output_type": "stream",
     "text": [
      "torch.Size([28836, 256]) <class 'torch.Tensor'>\n",
      "torch.Size([28836, 256]) <class 'torch.Tensor'>\n"
     ]
    }
   ],
   "source": [
    "input_ids['train'], attention_mask['train'] = encode_input(list(train_df.sentence.values), model.tokenizer)\n",
    "input_ids['train'] = input_ids['train'].to(device)\n",
    "attention_mask['train'] = attention_mask['train'].to(device)\n",
    "\n",
    "print(input_ids['train'].shape, type(input_ids['train']))\n",
    "print(attention_mask['train'].shape, type(attention_mask['train']))"
   ]
  },
  {
   "cell_type": "code",
   "execution_count": 29,
   "id": "87ec9675",
   "metadata": {
    "execution": {
     "iopub.execute_input": "2023-02-27T09:26:37.551359Z",
     "iopub.status.busy": "2023-02-27T09:26:37.550167Z",
     "iopub.status.idle": "2023-02-27T09:26:38.048179Z",
     "shell.execute_reply": "2023-02-27T09:26:38.046802Z"
    },
    "papermill": {
     "duration": 0.524463,
     "end_time": "2023-02-27T09:26:38.050490",
     "exception": false,
     "start_time": "2023-02-27T09:26:37.526027",
     "status": "completed"
    },
    "tags": []
   },
   "outputs": [
    {
     "name": "stdout",
     "output_type": "stream",
     "text": [
      "torch.Size([2890, 256]) <class 'torch.Tensor'>\n",
      "torch.Size([2890, 256]) <class 'torch.Tensor'>\n"
     ]
    }
   ],
   "source": [
    "input_ids['val'], attention_mask['val'] = encode_input(dev_sentences, model.tokenizer)\n",
    "input_ids['val'] = input_ids['val'].to(device)\n",
    "attention_mask['val'] = attention_mask['val'].to(device)\n",
    "\n",
    "print(input_ids['val'].shape, type(input_ids['val']))\n",
    "print(attention_mask['val'].shape, type(attention_mask['val']))"
   ]
  },
  {
   "cell_type": "code",
   "execution_count": 30,
   "id": "d518b5cf",
   "metadata": {
    "execution": {
     "iopub.execute_input": "2023-02-27T09:26:38.099113Z",
     "iopub.status.busy": "2023-02-27T09:26:38.098041Z",
     "iopub.status.idle": "2023-02-27T09:26:38.105885Z",
     "shell.execute_reply": "2023-02-27T09:26:38.104568Z"
    },
    "papermill": {
     "duration": 0.034834,
     "end_time": "2023-02-27T09:26:38.108329",
     "exception": false,
     "start_time": "2023-02-27T09:26:38.073495",
     "status": "completed"
    },
    "tags": []
   },
   "outputs": [
    {
     "name": "stdout",
     "output_type": "stream",
     "text": [
      "torch.Size([28836]) <class 'torch.Tensor'>\n",
      "torch.Size([2890]) <class 'torch.Tensor'>\n"
     ]
    }
   ],
   "source": [
    "label_encode = {}\n",
    "label_encode['train'] = th.LongTensor(train_labels)\n",
    "label_encode['val'] = th.LongTensor(dev_labels)\n",
    "\n",
    "print(label_encode['train'].shape, type(label_encode['train']))\n",
    "print(label_encode['val'].shape, type(label_encode['val']))"
   ]
  },
  {
   "cell_type": "code",
   "execution_count": 31,
   "id": "d700932a",
   "metadata": {
    "execution": {
     "iopub.execute_input": "2023-02-27T09:26:38.157223Z",
     "iopub.status.busy": "2023-02-27T09:26:38.155895Z",
     "iopub.status.idle": "2023-02-27T09:26:38.164137Z",
     "shell.execute_reply": "2023-02-27T09:26:38.163170Z"
    },
    "papermill": {
     "duration": 0.034883,
     "end_time": "2023-02-27T09:26:38.166414",
     "exception": false,
     "start_time": "2023-02-27T09:26:38.131531",
     "status": "completed"
    },
    "tags": []
   },
   "outputs": [],
   "source": [
    "datasets = {}\n",
    "loader = {}\n",
    "for split in ['train', 'val']:\n",
    "    \n",
    "    split_sampler = None\n",
    "    if split == 'train':\n",
    "        datasets[split] =  Data.TensorDataset(input_ids[split], attention_mask[split], train_lda, label_encode[split])\n",
    "        split_sampler = Data.RandomSampler(datasets[split])\n",
    "    else:\n",
    "        datasets[split] =  Data.TensorDataset(input_ids[split], attention_mask[split], val_lda, label_encode[split])\n",
    "        split_sampler = Data.SequentialSampler(datasets[split])\n",
    "        \n",
    "    loader[split] = Data.DataLoader(datasets[split], sampler = split_sampler, batch_size = batch_size)"
   ]
  },
  {
   "cell_type": "code",
   "execution_count": 32,
   "id": "11cd7ab1",
   "metadata": {
    "execution": {
     "iopub.execute_input": "2023-02-27T09:26:38.217437Z",
     "iopub.status.busy": "2023-02-27T09:26:38.216176Z",
     "iopub.status.idle": "2023-02-27T09:26:38.224306Z",
     "shell.execute_reply": "2023-02-27T09:26:38.223113Z"
    },
    "papermill": {
     "duration": 0.036063,
     "end_time": "2023-02-27T09:26:38.226662",
     "exception": false,
     "start_time": "2023-02-27T09:26:38.190599",
     "status": "completed"
    },
    "tags": []
   },
   "outputs": [
    {
     "name": "stdout",
     "output_type": "stream",
     "text": [
      "#train Dataset:  28836\n",
      "#train Labels:  28836\n",
      "#train Loader:  902\n",
      "#dev Dataset:  2890\n",
      "#dev Labels:  2890\n",
      "#dev Loader:  91\n"
     ]
    }
   ],
   "source": [
    "print(\"#train Dataset: \", len(datasets['train']))\n",
    "print(\"#train Labels: \", len(label_encode['train']))\n",
    "print(\"#train Loader: \", len(loader['train']))\n",
    "\n",
    "print(\"#dev Dataset: \", len(datasets['val']))\n",
    "print(\"#dev Labels: \", len(label_encode['val']))\n",
    "print(\"#dev Loader: \", len(loader['val']))"
   ]
  },
  {
   "cell_type": "markdown",
   "id": "7ffcf452",
   "metadata": {
    "papermill": {
     "duration": 0.023639,
     "end_time": "2023-02-27T09:26:38.274528",
     "exception": false,
     "start_time": "2023-02-27T09:26:38.250889",
     "status": "completed"
    },
    "tags": []
   },
   "source": [
    "#### Optimizer and scheduler"
   ]
  },
  {
   "cell_type": "code",
   "execution_count": 33,
   "id": "35c89895",
   "metadata": {
    "execution": {
     "iopub.execute_input": "2023-02-27T09:26:38.322637Z",
     "iopub.status.busy": "2023-02-27T09:26:38.322270Z",
     "iopub.status.idle": "2023-02-27T09:26:38.328977Z",
     "shell.execute_reply": "2023-02-27T09:26:38.327848Z"
    },
    "papermill": {
     "duration": 0.033487,
     "end_time": "2023-02-27T09:26:38.331340",
     "exception": false,
     "start_time": "2023-02-27T09:26:38.297853",
     "status": "completed"
    },
    "tags": []
   },
   "outputs": [],
   "source": [
    "optimizer = th.optim.Adam(model.parameters(), lr=1e-4)\n",
    "scheduler = lr_scheduler.MultiStepLR(optimizer, milestones=[30], gamma=0.1)"
   ]
  },
  {
   "cell_type": "code",
   "execution_count": null,
   "id": "e1608e38",
   "metadata": {
    "papermill": {
     "duration": 0.022789,
     "end_time": "2023-02-27T09:26:38.377234",
     "exception": false,
     "start_time": "2023-02-27T09:26:38.354445",
     "status": "completed"
    },
    "tags": []
   },
   "outputs": [],
   "source": []
  },
  {
   "cell_type": "markdown",
   "id": "0e3a4e6b",
   "metadata": {
    "papermill": {
     "duration": 0.023769,
     "end_time": "2023-02-27T09:26:38.424101",
     "exception": false,
     "start_time": "2023-02-27T09:26:38.400332",
     "status": "completed"
    },
    "tags": []
   },
   "source": [
    "#### Training"
   ]
  },
  {
   "cell_type": "code",
   "execution_count": null,
   "id": "38efc722",
   "metadata": {
    "execution": {
     "iopub.execute_input": "2023-02-27T09:26:38.473134Z",
     "iopub.status.busy": "2023-02-27T09:26:38.472040Z",
     "iopub.status.idle": "2023-02-27T10:12:43.859942Z",
     "shell.execute_reply": "2023-02-27T10:12:43.858664Z"
    },
    "papermill": {
     "duration": 2765.415879,
     "end_time": "2023-02-27T10:12:43.863514",
     "exception": false,
     "start_time": "2023-02-27T09:26:38.447635",
     "status": "completed"
    },
    "tags": []
   },
   "outputs": [],
   "source": [
    "train_loss = []\n",
    "val_loss = []\n",
    "\n",
    "train_acc = []\n",
    "val_acc = []\n",
    "\n",
    "best_val_loss = None\n",
    "\n",
    "for epoch in range(epochs):\n",
    "    print(\"Epoch: {}/{}\".format(epoch + 1 , epochs))\n",
    "    \n",
    "    t_loss, t_acc = 0, 0\n",
    "    v_loss, v_acc = 0, 0\n",
    "    \n",
    "    actual_labels, predictions = [], []\n",
    "    \n",
    "    for step, batch in enumerate(loader['train']):\n",
    "        \n",
    "        # progress update after every 50 batches.\n",
    "        print('\\rBatch {:>5,}  of  {:>5,}.'.format(step, len(loader['train'])), end='')\n",
    "    \n",
    "        model.train()\n",
    "\n",
    "        model = model.to(device)\n",
    "        optimizer.zero_grad()\n",
    "\n",
    "        (input_ids_0, attention_mask_0, input_ids_1, label_0) = [x.to(device) for x in batch]\n",
    "        optimizer.zero_grad()\n",
    "\n",
    "        y_pred = model(input_ids_1, input_ids_0, attention_mask_0)\n",
    "        y_true = label_0.type(th.long)\n",
    "\n",
    "        loss = F.cross_entropy(y_pred, y_true)\n",
    "        loss.backward()\n",
    "\n",
    "        optimizer.step()\n",
    "        t_loss += loss.item()\n",
    "\n",
    "        with th.no_grad():\n",
    "            y_true = y_true.detach().cpu()\n",
    "            y_pred = y_pred.argmax(axis=1).detach().cpu()\n",
    "            t_acc += accuracy_score(y_true, y_pred)\n",
    "            \n",
    "            for i in y_true:\n",
    "                actual_labels.append(i)\n",
    "                \n",
    "            for i in y_pred:\n",
    "                predictions.append(i)\n",
    "                \n",
    "    train_loss.append(t_loss/len(loader['train']))\n",
    "    train_acc.append(t_acc/len(loader['train']))\n",
    "    f1_measure = f1_score(actual_labels, predictions, average='micro')\n",
    "    \n",
    "    print(\"Training Loss: \", t_loss/len(loader['train']))\n",
    "    print(\"Train Accuracy: \", t_acc/len(loader['train']))\n",
    "    print(\"F1 measure: \", f1_measure)\n",
    "    \n",
    "    #### Validating the validation samples\n",
    "    predictions, actual_labels = [], []\n",
    "    with th.no_grad():\n",
    "        for step, batch in enumerate(loader['val']):\n",
    "            \n",
    "            # progress update after every 50 batches.\n",
    "            print('\\rBatch {:>5,}  of  {:>5,}.'.format(step, len(loader['val'])), end=\"\")\n",
    "                \n",
    "            model.eval()\n",
    "            model = model.to(device)\n",
    "            \n",
    "            (input_ids_0, attention_mask_0, input_ids_1, label_0) = [x.to(device) for x in batch]\n",
    "            optimizer.zero_grad()\n",
    "            \n",
    "            y_pred = model(input_ids_1, input_ids_0, attention_mask_0)\n",
    "            y_true = label_0.type(th.long)\n",
    "            \n",
    "            loss = F.cross_entropy(y_pred, y_true)\n",
    "            v_loss += loss.item()\n",
    "            \n",
    "            y_true = y_true.detach().cpu()\n",
    "            y_pred = y_pred.argmax(axis=1).detach().cpu()\n",
    "            \n",
    "            for i in y_true:\n",
    "                actual_labels.append(i)\n",
    "                \n",
    "            for i in y_pred:\n",
    "                predictions.append(i)\n",
    "                \n",
    "            v_acc += accuracy_score(y_true, y_pred)\n",
    "            \n",
    "    val_loss.append(v_loss/len(loader['val']))\n",
    "    val_acc.append(v_acc/len(loader['val']))\n",
    "    \n",
    "    f1_measure = f1_score(actual_labels, predictions, average='micro')\n",
    "    \n",
    "    print(\"Validation Loss: \", v_loss/len(loader['val']))\n",
    "    print(\"Validation Accuracy: \", v_acc/len(loader['val']))\n",
    "    print(\"Validation F1 measure: \", f1_measure)\n",
    "    \n",
    "    scheduler.step()\n",
    "    \n",
    "    if best_val_loss is None or best_val_loss > (v_acc/len(loader['val'])):\n",
    "        print(\"Saving the checkpoint at Epoch = \", (epoch + 1))\n",
    "        th.save(\n",
    "            {\n",
    "                'bert_model': model.bert_model.state_dict(),\n",
    "                'classifier_1': model.classifier_1.state_dict(),\n",
    "                'classifier': model.classifier.state_dict(),\n",
    "                'optimizer': optimizer.state_dict(),\n",
    "                'epoch': epochs,\n",
    "            },\n",
    "            '../../checkpoints/checkpoint.pth'\n",
    "        )\n",
    "        best_val_loss = (v_acc/len(loader['val']))\n",
    "        \n",
    "        pred_labels = []\n",
    "        for la in predictions:\n",
    "            pred_labels.append(ID_Label_Map.get(str(la.item()), ''))\n",
    "        df = pd.DataFrame(data = {'sentence': dev_sentences, 'actual': dev_actual_labels, 'predict': pred_labels}, columns = ['sentence', 'actual', 'predict'])\n",
    "        df.to_csv('../../model_results/eval_predictions.csv')"
   ]
  },
  {
   "cell_type": "markdown",
   "id": "701aff26",
   "metadata": {
    "papermill": {
     "duration": 0.382966,
     "end_time": "2023-02-27T10:12:44.635011",
     "exception": false,
     "start_time": "2023-02-27T10:12:44.252045",
     "status": "completed"
    },
    "tags": []
   },
   "source": [
    "### Accuracy and Loss plots"
   ]
  },
  {
   "cell_type": "code",
   "execution_count": null,
   "id": "87469873",
   "metadata": {
    "execution": {
     "iopub.execute_input": "2023-02-27T10:12:45.292696Z",
     "iopub.status.busy": "2023-02-27T10:12:45.292333Z",
     "iopub.status.idle": "2023-02-27T10:12:45.820980Z",
     "shell.execute_reply": "2023-02-27T10:12:45.819948Z"
    },
    "papermill": {
     "duration": 0.780205,
     "end_time": "2023-02-27T10:12:45.823423",
     "exception": false,
     "start_time": "2023-02-27T10:12:45.043218",
     "status": "completed"
    },
    "tags": []
   },
   "outputs": [],
   "source": [
    "fig, (ax1, ax2) = plt.subplots(figsize = (8, 4), nrows = 1, ncols=2)\n",
    "\n",
    "ax1.plot(range(epochs), train_loss, label='train', color='red')\n",
    "ax1.scatter(range(epochs), train_loss, color='red')\n",
    "ax1.plot(range(epochs), val_loss, label='dev', color='blue')\n",
    "ax1.scatter(range(epochs), val_loss, color='blue')\n",
    "ax1.set(xlabel = 'Epochs', ylabel = 'Loss')\n",
    "ax1.set_title('Train vs Dev Loss')\n",
    "ax1.legend()\n",
    "\n",
    "ax2.plot(range(epochs), train_acc, label='train', color='red')\n",
    "ax2.scatter(range(epochs), train_acc, color='red')\n",
    "ax2.plot(range(epochs), val_acc, label='dev', color='blue')\n",
    "ax2.scatter(range(epochs), val_acc, color='blue')\n",
    "ax2.set(xlabel = 'Epochs', ylabel = 'Accuracy')\n",
    "ax2.set_title('Train vs Dev Accuracy')\n",
    "ax2.legend()\n",
    "\n",
    "fig.savefig('train_vs_test_loss_and_accuracy.jpg')\n",
    "fig.show()"
   ]
  },
  {
   "cell_type": "code",
   "execution_count": null,
   "id": "5084596a",
   "metadata": {
    "papermill": {
     "duration": 0.247531,
     "end_time": "2023-02-27T10:12:46.321031",
     "exception": false,
     "start_time": "2023-02-27T10:12:46.073500",
     "status": "completed"
    },
    "tags": []
   },
   "outputs": [],
   "source": []
  },
  {
   "attachments": {},
   "cell_type": "markdown",
   "id": "499f1255",
   "metadata": {},
   "source": [
    "## Test Data Inference and submission file preparation"
   ]
  },
  {
   "attachments": {},
   "cell_type": "markdown",
   "id": "860b315d",
   "metadata": {},
   "source": [
    "### Load the label list"
   ]
  },
  {
   "cell_type": "code",
   "execution_count": null,
   "id": "8ac8be36",
   "metadata": {},
   "outputs": [],
   "source": [
    "print(ID_Label_Map)\n",
    "labels_list = []\n",
    "for i in range(len(ID_Label_Map)):\n",
    "    label = ID_Label_Map[str(i)]\n",
    "    labels_list.append(label)\n",
    "\n",
    "print(labels_list)"
   ]
  },
  {
   "attachments": {},
   "cell_type": "markdown",
   "id": "ac0ee02f",
   "metadata": {},
   "source": [
    "### Read testset"
   ]
  },
  {
   "cell_type": "code",
   "execution_count": null,
   "id": "722f4b76",
   "metadata": {},
   "outputs": [],
   "source": [
    "rr_test_data = {}\n",
    "with open('../../data/model_data/SAMPLE_SUBMISSION_RR.json.json', 'r') as fp:\n",
    "    rr_test_data = json.load(fp)\n",
    "print(\"# Documents: \", len(rr_test_data))"
   ]
  },
  {
   "attachments": {},
   "cell_type": "markdown",
   "id": "a6e64daa",
   "metadata": {},
   "source": [
    "### Get predictions"
   ]
  },
  {
   "cell_type": "code",
   "execution_count": null,
   "id": "ddda00ba",
   "metadata": {},
   "outputs": [],
   "source": [
    "final_results = rr_test_data.copy()\n",
    "for doc_index, entry in tqdm(enumerate(rr_test_data)):\n",
    "    results = rr_test_data[doc_index]['annotations'][0]['result']\n",
    "    for sent_index, sent in enumerate(results):\n",
    "        \n",
    "        #### Extracting the text from the test data\n",
    "        sentence = sent['value']['text']\n",
    "        sentence = sentence.replace(r'\\s+', ' ').strip()\n",
    "\n",
    "        #### Getting the lda output for the given sentence\n",
    "        tokenized_sent = model.tokenizer.tokenize(sentence)\n",
    "        lda_output = encode_input_lda(tokenized_sent, len(ID_Label_Map))\n",
    "        lda_output = torch.from_numpy(lda_output)\n",
    "\n",
    "        #### Getting input ids and attention mask from the model for the given sentence\n",
    "        input_ids, attention_mask = encode_input([sentence], model.tokenizer)\n",
    "        output = model(lda_output.to(device), input_ids.to(device), attention_mask.to(device)).cpu().detach().numpy()\n",
    "        \n",
    "        label = None\n",
    "        #### Predicting the label index from the model\n",
    "        with th.no_grad():\n",
    "            model.eval()\n",
    "            model.to(device)\n",
    "            y_pred = model(output.to(device), input_ids.to(device), attention_mask.to(device)).cpu()\n",
    "            label = labels_list[np.argmax(y_pred)]\n",
    "        \n",
    "        if label is not None:\n",
    "            final_results[doc_index]['annotations'][0]['result'][sent_index]['value']['labels'] = [label]\n",
    "        else:\n",
    "            print(\"Label is None for Doc-index: {} and Sent-index: {}\".format(doc_index, sent_index))\n",
    "\n",
    "print(\"# Documents: \", len(final_results))"
   ]
  },
  {
   "cell_type": "code",
   "execution_count": null,
   "id": "7f685af2",
   "metadata": {},
   "outputs": [],
   "source": [
    "with open('../../output/RR_SUBMISSION.json', 'w') as fp:\n",
    "    json.dump(final_results, fp, indent=4)"
   ]
  },
  {
   "cell_type": "code",
   "execution_count": null,
   "id": "7b9ff1ba",
   "metadata": {},
   "outputs": [],
   "source": []
  }
 ],
 "metadata": {
  "kernelspec": {
   "display_name": "Python 3",
   "language": "python",
   "name": "python3"
  },
  "language_info": {
   "codemirror_mode": {
    "name": "ipython",
    "version": 3
   },
   "file_extension": ".py",
   "mimetype": "text/x-python",
   "name": "python",
   "nbconvert_exporter": "python",
   "pygments_lexer": "ipython3",
   "version": "3.7.12"
  },
  "papermill": {
   "default_parameters": {},
   "duration": 3101.878238,
   "end_time": "2023-02-27T10:12:50.241519",
   "environment_variables": {},
   "exception": null,
   "input_path": "__notebook__.ipynb",
   "output_path": "__notebook__.ipynb",
   "parameters": {},
   "start_time": "2023-02-27T09:21:08.363281",
   "version": "2.4.0"
  },
  "widgets": {
   "application/vnd.jupyter.widget-state+json": {
    "state": {
     "00621b11686a4deb947e40d0085ece4d": {
      "model_module": "@jupyter-widgets/controls",
      "model_module_version": "1.5.0",
      "model_name": "HTMLModel",
      "state": {
       "_dom_classes": [],
       "_model_module": "@jupyter-widgets/controls",
       "_model_module_version": "1.5.0",
       "_model_name": "HTMLModel",
       "_view_count": null,
       "_view_module": "@jupyter-widgets/controls",
       "_view_module_version": "1.5.0",
       "_view_name": "HTMLView",
       "description": "",
       "description_tooltip": null,
       "layout": "IPY_MODEL_0e3a534d70484c8fa15d3d0720366d46",
       "placeholder": "​",
       "style": "IPY_MODEL_8e2f671cbd1d4813864e0b9041f3e6e5",
       "value": " 48.0/48.0 [00:00&lt;00:00, 1.75kB/s]"
      }
     },
     "083cfb8cb3ae4671971bde7901948abd": {
      "model_module": "@jupyter-widgets/controls",
      "model_module_version": "1.5.0",
      "model_name": "HTMLModel",
      "state": {
       "_dom_classes": [],
       "_model_module": "@jupyter-widgets/controls",
       "_model_module_version": "1.5.0",
       "_model_name": "HTMLModel",
       "_view_count": null,
       "_view_module": "@jupyter-widgets/controls",
       "_view_module_version": "1.5.0",
       "_view_name": "HTMLView",
       "description": "",
       "description_tooltip": null,
       "layout": "IPY_MODEL_bc6926d267b5454b83fb12e580b472c8",
       "placeholder": "​",
       "style": "IPY_MODEL_88eec75e453a401bbb84e5249fc9e554",
       "value": " 1.02k/1.02k [00:00&lt;00:00, 48.4kB/s]"
      }
     },
     "0e3a534d70484c8fa15d3d0720366d46": {
      "model_module": "@jupyter-widgets/base",
      "model_module_version": "1.2.0",
      "model_name": "LayoutModel",
      "state": {
       "_model_module": "@jupyter-widgets/base",
       "_model_module_version": "1.2.0",
       "_model_name": "LayoutModel",
       "_view_count": null,
       "_view_module": "@jupyter-widgets/base",
       "_view_module_version": "1.2.0",
       "_view_name": "LayoutView",
       "align_content": null,
       "align_items": null,
       "align_self": null,
       "border": null,
       "bottom": null,
       "display": null,
       "flex": null,
       "flex_flow": null,
       "grid_area": null,
       "grid_auto_columns": null,
       "grid_auto_flow": null,
       "grid_auto_rows": null,
       "grid_column": null,
       "grid_gap": null,
       "grid_row": null,
       "grid_template_areas": null,
       "grid_template_columns": null,
       "grid_template_rows": null,
       "height": null,
       "justify_content": null,
       "justify_items": null,
       "left": null,
       "margin": null,
       "max_height": null,
       "max_width": null,
       "min_height": null,
       "min_width": null,
       "object_fit": null,
       "object_position": null,
       "order": null,
       "overflow": null,
       "overflow_x": null,
       "overflow_y": null,
       "padding": null,
       "right": null,
       "top": null,
       "visibility": null,
       "width": null
      }
     },
     "1114aab5b03245d6887b6a199d535db2": {
      "model_module": "@jupyter-widgets/controls",
      "model_module_version": "1.5.0",
      "model_name": "HTMLModel",
      "state": {
       "_dom_classes": [],
       "_model_module": "@jupyter-widgets/controls",
       "_model_module_version": "1.5.0",
       "_model_name": "HTMLModel",
       "_view_count": null,
       "_view_module": "@jupyter-widgets/controls",
       "_view_module_version": "1.5.0",
       "_view_name": "HTMLView",
       "description": "",
       "description_tooltip": null,
       "layout": "IPY_MODEL_892c000ec61646a99500f264ba147ea6",
       "placeholder": "​",
       "style": "IPY_MODEL_4f31b2597c554d47aa4d91b42a78be2d",
       "value": "Downloading (…)&quot;pytorch_model.bin&quot;;: 100%"
      }
     },
     "13a9723685fd41c79126156aeff17dfe": {
      "model_module": "@jupyter-widgets/base",
      "model_module_version": "1.2.0",
      "model_name": "LayoutModel",
      "state": {
       "_model_module": "@jupyter-widgets/base",
       "_model_module_version": "1.2.0",
       "_model_name": "LayoutModel",
       "_view_count": null,
       "_view_module": "@jupyter-widgets/base",
       "_view_module_version": "1.2.0",
       "_view_name": "LayoutView",
       "align_content": null,
       "align_items": null,
       "align_self": null,
       "border": null,
       "bottom": null,
       "display": null,
       "flex": null,
       "flex_flow": null,
       "grid_area": null,
       "grid_auto_columns": null,
       "grid_auto_flow": null,
       "grid_auto_rows": null,
       "grid_column": null,
       "grid_gap": null,
       "grid_row": null,
       "grid_template_areas": null,
       "grid_template_columns": null,
       "grid_template_rows": null,
       "height": null,
       "justify_content": null,
       "justify_items": null,
       "left": null,
       "margin": null,
       "max_height": null,
       "max_width": null,
       "min_height": null,
       "min_width": null,
       "object_fit": null,
       "object_position": null,
       "order": null,
       "overflow": null,
       "overflow_x": null,
       "overflow_y": null,
       "padding": null,
       "right": null,
       "top": null,
       "visibility": null,
       "width": null
      }
     },
     "1467dc583c254f15bb77905ec82adcd6": {
      "model_module": "@jupyter-widgets/controls",
      "model_module_version": "1.5.0",
      "model_name": "HBoxModel",
      "state": {
       "_dom_classes": [],
       "_model_module": "@jupyter-widgets/controls",
       "_model_module_version": "1.5.0",
       "_model_name": "HBoxModel",
       "_view_count": null,
       "_view_module": "@jupyter-widgets/controls",
       "_view_module_version": "1.5.0",
       "_view_name": "HBoxView",
       "box_style": "",
       "children": [
        "IPY_MODEL_7d6833734653466eac4060bd490c06d1",
        "IPY_MODEL_592cd9adb0b34c1cbb67b81594adb4a1",
        "IPY_MODEL_00621b11686a4deb947e40d0085ece4d"
       ],
       "layout": "IPY_MODEL_f5918fb76677479e8418d11819a44a24"
      }
     },
     "1ea379eef4f74c5ab9210b466f204b8f": {
      "model_module": "@jupyter-widgets/controls",
      "model_module_version": "1.5.0",
      "model_name": "HTMLModel",
      "state": {
       "_dom_classes": [],
       "_model_module": "@jupyter-widgets/controls",
       "_model_module_version": "1.5.0",
       "_model_name": "HTMLModel",
       "_view_count": null,
       "_view_module": "@jupyter-widgets/controls",
       "_view_module_version": "1.5.0",
       "_view_name": "HTMLView",
       "description": "",
       "description_tooltip": null,
       "layout": "IPY_MODEL_b65fc985dd9f4e9db398001c830e2fd0",
       "placeholder": "​",
       "style": "IPY_MODEL_26ceb218618d47bfb013cfe8ce1fdd65",
       "value": "Downloading (…)lve/main/config.json: 100%"
      }
     },
     "254a0b350a624eafaef09d7d46f61ef1": {
      "model_module": "@jupyter-widgets/base",
      "model_module_version": "1.2.0",
      "model_name": "LayoutModel",
      "state": {
       "_model_module": "@jupyter-widgets/base",
       "_model_module_version": "1.2.0",
       "_model_name": "LayoutModel",
       "_view_count": null,
       "_view_module": "@jupyter-widgets/base",
       "_view_module_version": "1.2.0",
       "_view_name": "LayoutView",
       "align_content": null,
       "align_items": null,
       "align_self": null,
       "border": null,
       "bottom": null,
       "display": null,
       "flex": null,
       "flex_flow": null,
       "grid_area": null,
       "grid_auto_columns": null,
       "grid_auto_flow": null,
       "grid_auto_rows": null,
       "grid_column": null,
       "grid_gap": null,
       "grid_row": null,
       "grid_template_areas": null,
       "grid_template_columns": null,
       "grid_template_rows": null,
       "height": null,
       "justify_content": null,
       "justify_items": null,
       "left": null,
       "margin": null,
       "max_height": null,
       "max_width": null,
       "min_height": null,
       "min_width": null,
       "object_fit": null,
       "object_position": null,
       "order": null,
       "overflow": null,
       "overflow_x": null,
       "overflow_y": null,
       "padding": null,
       "right": null,
       "top": null,
       "visibility": null,
       "width": null
      }
     },
     "25d66b398b764f5c86ec7e4422994d30": {
      "model_module": "@jupyter-widgets/base",
      "model_module_version": "1.2.0",
      "model_name": "LayoutModel",
      "state": {
       "_model_module": "@jupyter-widgets/base",
       "_model_module_version": "1.2.0",
       "_model_name": "LayoutModel",
       "_view_count": null,
       "_view_module": "@jupyter-widgets/base",
       "_view_module_version": "1.2.0",
       "_view_name": "LayoutView",
       "align_content": null,
       "align_items": null,
       "align_self": null,
       "border": null,
       "bottom": null,
       "display": null,
       "flex": null,
       "flex_flow": null,
       "grid_area": null,
       "grid_auto_columns": null,
       "grid_auto_flow": null,
       "grid_auto_rows": null,
       "grid_column": null,
       "grid_gap": null,
       "grid_row": null,
       "grid_template_areas": null,
       "grid_template_columns": null,
       "grid_template_rows": null,
       "height": null,
       "justify_content": null,
       "justify_items": null,
       "left": null,
       "margin": null,
       "max_height": null,
       "max_width": null,
       "min_height": null,
       "min_width": null,
       "object_fit": null,
       "object_position": null,
       "order": null,
       "overflow": null,
       "overflow_x": null,
       "overflow_y": null,
       "padding": null,
       "right": null,
       "top": null,
       "visibility": null,
       "width": null
      }
     },
     "26ceb218618d47bfb013cfe8ce1fdd65": {
      "model_module": "@jupyter-widgets/controls",
      "model_module_version": "1.5.0",
      "model_name": "DescriptionStyleModel",
      "state": {
       "_model_module": "@jupyter-widgets/controls",
       "_model_module_version": "1.5.0",
       "_model_name": "DescriptionStyleModel",
       "_view_count": null,
       "_view_module": "@jupyter-widgets/base",
       "_view_module_version": "1.2.0",
       "_view_name": "StyleView",
       "description_width": ""
      }
     },
     "2bb2bbec85da435aa96056be5c7cf001": {
      "model_module": "@jupyter-widgets/base",
      "model_module_version": "1.2.0",
      "model_name": "LayoutModel",
      "state": {
       "_model_module": "@jupyter-widgets/base",
       "_model_module_version": "1.2.0",
       "_model_name": "LayoutModel",
       "_view_count": null,
       "_view_module": "@jupyter-widgets/base",
       "_view_module_version": "1.2.0",
       "_view_name": "LayoutView",
       "align_content": null,
       "align_items": null,
       "align_self": null,
       "border": null,
       "bottom": null,
       "display": null,
       "flex": null,
       "flex_flow": null,
       "grid_area": null,
       "grid_auto_columns": null,
       "grid_auto_flow": null,
       "grid_auto_rows": null,
       "grid_column": null,
       "grid_gap": null,
       "grid_row": null,
       "grid_template_areas": null,
       "grid_template_columns": null,
       "grid_template_rows": null,
       "height": null,
       "justify_content": null,
       "justify_items": null,
       "left": null,
       "margin": null,
       "max_height": null,
       "max_width": null,
       "min_height": null,
       "min_width": null,
       "object_fit": null,
       "object_position": null,
       "order": null,
       "overflow": null,
       "overflow_x": null,
       "overflow_y": null,
       "padding": null,
       "right": null,
       "top": null,
       "visibility": null,
       "width": null
      }
     },
     "2c306b33501f4e4b8314c9cf6a03e024": {
      "model_module": "@jupyter-widgets/controls",
      "model_module_version": "1.5.0",
      "model_name": "FloatProgressModel",
      "state": {
       "_dom_classes": [],
       "_model_module": "@jupyter-widgets/controls",
       "_model_module_version": "1.5.0",
       "_model_name": "FloatProgressModel",
       "_view_count": null,
       "_view_module": "@jupyter-widgets/controls",
       "_view_module_version": "1.5.0",
       "_view_name": "ProgressView",
       "bar_style": "success",
       "description": "",
       "description_tooltip": null,
       "layout": "IPY_MODEL_13a9723685fd41c79126156aeff17dfe",
       "max": 1017,
       "min": 0,
       "orientation": "horizontal",
       "style": "IPY_MODEL_885daf0cc807475cabf1671022962e14",
       "value": 1017
      }
     },
     "2c41825ca0fe4a34b2b4e961de9c339e": {
      "model_module": "@jupyter-widgets/controls",
      "model_module_version": "1.5.0",
      "model_name": "HTMLModel",
      "state": {
       "_dom_classes": [],
       "_model_module": "@jupyter-widgets/controls",
       "_model_module_version": "1.5.0",
       "_model_name": "HTMLModel",
       "_view_count": null,
       "_view_module": "@jupyter-widgets/controls",
       "_view_module_version": "1.5.0",
       "_view_name": "HTMLView",
       "description": "",
       "description_tooltip": null,
       "layout": "IPY_MODEL_4dd715ae7e5f4989886c7ba248072c69",
       "placeholder": "​",
       "style": "IPY_MODEL_b669ff4e5c6f4098b9f527ac26ef1b96",
       "value": " 112/112 [00:00&lt;00:00, 6.97kB/s]"
      }
     },
     "3486d212fc234f5a8cab1014bede1c5c": {
      "model_module": "@jupyter-widgets/base",
      "model_module_version": "1.2.0",
      "model_name": "LayoutModel",
      "state": {
       "_model_module": "@jupyter-widgets/base",
       "_model_module_version": "1.2.0",
       "_model_name": "LayoutModel",
       "_view_count": null,
       "_view_module": "@jupyter-widgets/base",
       "_view_module_version": "1.2.0",
       "_view_name": "LayoutView",
       "align_content": null,
       "align_items": null,
       "align_self": null,
       "border": null,
       "bottom": null,
       "display": null,
       "flex": null,
       "flex_flow": null,
       "grid_area": null,
       "grid_auto_columns": null,
       "grid_auto_flow": null,
       "grid_auto_rows": null,
       "grid_column": null,
       "grid_gap": null,
       "grid_row": null,
       "grid_template_areas": null,
       "grid_template_columns": null,
       "grid_template_rows": null,
       "height": null,
       "justify_content": null,
       "justify_items": null,
       "left": null,
       "margin": null,
       "max_height": null,
       "max_width": null,
       "min_height": null,
       "min_width": null,
       "object_fit": null,
       "object_position": null,
       "order": null,
       "overflow": null,
       "overflow_x": null,
       "overflow_y": null,
       "padding": null,
       "right": null,
       "top": null,
       "visibility": null,
       "width": null
      }
     },
     "3c698ea8696f4bcaae6c6e0b9d568982": {
      "model_module": "@jupyter-widgets/base",
      "model_module_version": "1.2.0",
      "model_name": "LayoutModel",
      "state": {
       "_model_module": "@jupyter-widgets/base",
       "_model_module_version": "1.2.0",
       "_model_name": "LayoutModel",
       "_view_count": null,
       "_view_module": "@jupyter-widgets/base",
       "_view_module_version": "1.2.0",
       "_view_name": "LayoutView",
       "align_content": null,
       "align_items": null,
       "align_self": null,
       "border": null,
       "bottom": null,
       "display": null,
       "flex": null,
       "flex_flow": null,
       "grid_area": null,
       "grid_auto_columns": null,
       "grid_auto_flow": null,
       "grid_auto_rows": null,
       "grid_column": null,
       "grid_gap": null,
       "grid_row": null,
       "grid_template_areas": null,
       "grid_template_columns": null,
       "grid_template_rows": null,
       "height": null,
       "justify_content": null,
       "justify_items": null,
       "left": null,
       "margin": null,
       "max_height": null,
       "max_width": null,
       "min_height": null,
       "min_width": null,
       "object_fit": null,
       "object_position": null,
       "order": null,
       "overflow": null,
       "overflow_x": null,
       "overflow_y": null,
       "padding": null,
       "right": null,
       "top": null,
       "visibility": null,
       "width": null
      }
     },
     "477b7c7ee1a0407ca70c14cd955fbf78": {
      "model_module": "@jupyter-widgets/controls",
      "model_module_version": "1.5.0",
      "model_name": "HBoxModel",
      "state": {
       "_dom_classes": [],
       "_model_module": "@jupyter-widgets/controls",
       "_model_module_version": "1.5.0",
       "_model_name": "HBoxModel",
       "_view_count": null,
       "_view_module": "@jupyter-widgets/controls",
       "_view_module_version": "1.5.0",
       "_view_name": "HBoxView",
       "box_style": "",
       "children": [
        "IPY_MODEL_6a5a5d6a280e4310adff0d839ca7f5ca",
        "IPY_MODEL_a35444337e7f46fe91177f92c1504916",
        "IPY_MODEL_ebe2d111842c4b1fbaac668e8d3c37eb"
       ],
       "layout": "IPY_MODEL_51e4a8da2ddc47b2aaa554643a9c642f"
      }
     },
     "4a76fe114462473eb5d9016717b29e57": {
      "model_module": "@jupyter-widgets/controls",
      "model_module_version": "1.5.0",
      "model_name": "ProgressStyleModel",
      "state": {
       "_model_module": "@jupyter-widgets/controls",
       "_model_module_version": "1.5.0",
       "_model_name": "ProgressStyleModel",
       "_view_count": null,
       "_view_module": "@jupyter-widgets/base",
       "_view_module_version": "1.2.0",
       "_view_name": "StyleView",
       "bar_color": null,
       "description_width": ""
      }
     },
     "4dd715ae7e5f4989886c7ba248072c69": {
      "model_module": "@jupyter-widgets/base",
      "model_module_version": "1.2.0",
      "model_name": "LayoutModel",
      "state": {
       "_model_module": "@jupyter-widgets/base",
       "_model_module_version": "1.2.0",
       "_model_name": "LayoutModel",
       "_view_count": null,
       "_view_module": "@jupyter-widgets/base",
       "_view_module_version": "1.2.0",
       "_view_name": "LayoutView",
       "align_content": null,
       "align_items": null,
       "align_self": null,
       "border": null,
       "bottom": null,
       "display": null,
       "flex": null,
       "flex_flow": null,
       "grid_area": null,
       "grid_auto_columns": null,
       "grid_auto_flow": null,
       "grid_auto_rows": null,
       "grid_column": null,
       "grid_gap": null,
       "grid_row": null,
       "grid_template_areas": null,
       "grid_template_columns": null,
       "grid_template_rows": null,
       "height": null,
       "justify_content": null,
       "justify_items": null,
       "left": null,
       "margin": null,
       "max_height": null,
       "max_width": null,
       "min_height": null,
       "min_width": null,
       "object_fit": null,
       "object_position": null,
       "order": null,
       "overflow": null,
       "overflow_x": null,
       "overflow_y": null,
       "padding": null,
       "right": null,
       "top": null,
       "visibility": null,
       "width": null
      }
     },
     "4f31b2597c554d47aa4d91b42a78be2d": {
      "model_module": "@jupyter-widgets/controls",
      "model_module_version": "1.5.0",
      "model_name": "DescriptionStyleModel",
      "state": {
       "_model_module": "@jupyter-widgets/controls",
       "_model_module_version": "1.5.0",
       "_model_name": "DescriptionStyleModel",
       "_view_count": null,
       "_view_module": "@jupyter-widgets/base",
       "_view_module_version": "1.2.0",
       "_view_name": "StyleView",
       "description_width": ""
      }
     },
     "51e4a8da2ddc47b2aaa554643a9c642f": {
      "model_module": "@jupyter-widgets/base",
      "model_module_version": "1.2.0",
      "model_name": "LayoutModel",
      "state": {
       "_model_module": "@jupyter-widgets/base",
       "_model_module_version": "1.2.0",
       "_model_name": "LayoutModel",
       "_view_count": null,
       "_view_module": "@jupyter-widgets/base",
       "_view_module_version": "1.2.0",
       "_view_name": "LayoutView",
       "align_content": null,
       "align_items": null,
       "align_self": null,
       "border": null,
       "bottom": null,
       "display": null,
       "flex": null,
       "flex_flow": null,
       "grid_area": null,
       "grid_auto_columns": null,
       "grid_auto_flow": null,
       "grid_auto_rows": null,
       "grid_column": null,
       "grid_gap": null,
       "grid_row": null,
       "grid_template_areas": null,
       "grid_template_columns": null,
       "grid_template_rows": null,
       "height": null,
       "justify_content": null,
       "justify_items": null,
       "left": null,
       "margin": null,
       "max_height": null,
       "max_width": null,
       "min_height": null,
       "min_width": null,
       "object_fit": null,
       "object_position": null,
       "order": null,
       "overflow": null,
       "overflow_x": null,
       "overflow_y": null,
       "padding": null,
       "right": null,
       "top": null,
       "visibility": null,
       "width": null
      }
     },
     "592cd9adb0b34c1cbb67b81594adb4a1": {
      "model_module": "@jupyter-widgets/controls",
      "model_module_version": "1.5.0",
      "model_name": "FloatProgressModel",
      "state": {
       "_dom_classes": [],
       "_model_module": "@jupyter-widgets/controls",
       "_model_module_version": "1.5.0",
       "_model_name": "FloatProgressModel",
       "_view_count": null,
       "_view_module": "@jupyter-widgets/controls",
       "_view_module_version": "1.5.0",
       "_view_name": "ProgressView",
       "bar_style": "success",
       "description": "",
       "description_tooltip": null,
       "layout": "IPY_MODEL_d87e9638b7eb47be80f1672f088878c6",
       "max": 48,
       "min": 0,
       "orientation": "horizontal",
       "style": "IPY_MODEL_73a31601f18e4c739cce5896d37a47ca",
       "value": 48
      }
     },
     "5a9bc21ac353423dbc5aa550fdaff01f": {
      "model_module": "@jupyter-widgets/controls",
      "model_module_version": "1.5.0",
      "model_name": "ProgressStyleModel",
      "state": {
       "_model_module": "@jupyter-widgets/controls",
       "_model_module_version": "1.5.0",
       "_model_name": "ProgressStyleModel",
       "_view_count": null,
       "_view_module": "@jupyter-widgets/base",
       "_view_module_version": "1.2.0",
       "_view_name": "StyleView",
       "bar_color": null,
       "description_width": ""
      }
     },
     "6a5a5d6a280e4310adff0d839ca7f5ca": {
      "model_module": "@jupyter-widgets/controls",
      "model_module_version": "1.5.0",
      "model_name": "HTMLModel",
      "state": {
       "_dom_classes": [],
       "_model_module": "@jupyter-widgets/controls",
       "_model_module_version": "1.5.0",
       "_model_name": "HTMLModel",
       "_view_count": null,
       "_view_module": "@jupyter-widgets/controls",
       "_view_module_version": "1.5.0",
       "_view_name": "HTMLView",
       "description": "",
       "description_tooltip": null,
       "layout": "IPY_MODEL_abeaf08ebbba415f992f7fd519bbf34d",
       "placeholder": "​",
       "style": "IPY_MODEL_960c4802122a4c44bf2692986b042080",
       "value": "Downloading (…)solve/main/vocab.txt: 100%"
      }
     },
     "6e58209c71c0497ea0f733df77ceebb0": {
      "model_module": "@jupyter-widgets/controls",
      "model_module_version": "1.5.0",
      "model_name": "HBoxModel",
      "state": {
       "_dom_classes": [],
       "_model_module": "@jupyter-widgets/controls",
       "_model_module_version": "1.5.0",
       "_model_name": "HBoxModel",
       "_view_count": null,
       "_view_module": "@jupyter-widgets/controls",
       "_view_module_version": "1.5.0",
       "_view_name": "HBoxView",
       "box_style": "",
       "children": [
        "IPY_MODEL_1114aab5b03245d6887b6a199d535db2",
        "IPY_MODEL_8fc65b877acd4b0d97615f203f0524c8",
        "IPY_MODEL_c20e0b4aea34425c87a736794fd56c98"
       ],
       "layout": "IPY_MODEL_254a0b350a624eafaef09d7d46f61ef1"
      }
     },
     "73a31601f18e4c739cce5896d37a47ca": {
      "model_module": "@jupyter-widgets/controls",
      "model_module_version": "1.5.0",
      "model_name": "ProgressStyleModel",
      "state": {
       "_model_module": "@jupyter-widgets/controls",
       "_model_module_version": "1.5.0",
       "_model_name": "ProgressStyleModel",
       "_view_count": null,
       "_view_module": "@jupyter-widgets/base",
       "_view_module_version": "1.2.0",
       "_view_name": "StyleView",
       "bar_color": null,
       "description_width": ""
      }
     },
     "7d6833734653466eac4060bd490c06d1": {
      "model_module": "@jupyter-widgets/controls",
      "model_module_version": "1.5.0",
      "model_name": "HTMLModel",
      "state": {
       "_dom_classes": [],
       "_model_module": "@jupyter-widgets/controls",
       "_model_module_version": "1.5.0",
       "_model_name": "HTMLModel",
       "_view_count": null,
       "_view_module": "@jupyter-widgets/controls",
       "_view_module_version": "1.5.0",
       "_view_name": "HTMLView",
       "description": "",
       "description_tooltip": null,
       "layout": "IPY_MODEL_d4245a5309374cd49584eaf2af25f5ce",
       "placeholder": "​",
       "style": "IPY_MODEL_e643da9041ed47038d6160997722cb63",
       "value": "Downloading (…)okenizer_config.json: 100%"
      }
     },
     "86113b3acb784ed28e86b66dff3d175b": {
      "model_module": "@jupyter-widgets/controls",
      "model_module_version": "1.5.0",
      "model_name": "DescriptionStyleModel",
      "state": {
       "_model_module": "@jupyter-widgets/controls",
       "_model_module_version": "1.5.0",
       "_model_name": "DescriptionStyleModel",
       "_view_count": null,
       "_view_module": "@jupyter-widgets/base",
       "_view_module_version": "1.2.0",
       "_view_name": "StyleView",
       "description_width": ""
      }
     },
     "885daf0cc807475cabf1671022962e14": {
      "model_module": "@jupyter-widgets/controls",
      "model_module_version": "1.5.0",
      "model_name": "ProgressStyleModel",
      "state": {
       "_model_module": "@jupyter-widgets/controls",
       "_model_module_version": "1.5.0",
       "_model_name": "ProgressStyleModel",
       "_view_count": null,
       "_view_module": "@jupyter-widgets/base",
       "_view_module_version": "1.2.0",
       "_view_name": "StyleView",
       "bar_color": null,
       "description_width": ""
      }
     },
     "88eec75e453a401bbb84e5249fc9e554": {
      "model_module": "@jupyter-widgets/controls",
      "model_module_version": "1.5.0",
      "model_name": "DescriptionStyleModel",
      "state": {
       "_model_module": "@jupyter-widgets/controls",
       "_model_module_version": "1.5.0",
       "_model_name": "DescriptionStyleModel",
       "_view_count": null,
       "_view_module": "@jupyter-widgets/base",
       "_view_module_version": "1.2.0",
       "_view_name": "StyleView",
       "description_width": ""
      }
     },
     "892c000ec61646a99500f264ba147ea6": {
      "model_module": "@jupyter-widgets/base",
      "model_module_version": "1.2.0",
      "model_name": "LayoutModel",
      "state": {
       "_model_module": "@jupyter-widgets/base",
       "_model_module_version": "1.2.0",
       "_model_name": "LayoutModel",
       "_view_count": null,
       "_view_module": "@jupyter-widgets/base",
       "_view_module_version": "1.2.0",
       "_view_name": "LayoutView",
       "align_content": null,
       "align_items": null,
       "align_self": null,
       "border": null,
       "bottom": null,
       "display": null,
       "flex": null,
       "flex_flow": null,
       "grid_area": null,
       "grid_auto_columns": null,
       "grid_auto_flow": null,
       "grid_auto_rows": null,
       "grid_column": null,
       "grid_gap": null,
       "grid_row": null,
       "grid_template_areas": null,
       "grid_template_columns": null,
       "grid_template_rows": null,
       "height": null,
       "justify_content": null,
       "justify_items": null,
       "left": null,
       "margin": null,
       "max_height": null,
       "max_width": null,
       "min_height": null,
       "min_width": null,
       "object_fit": null,
       "object_position": null,
       "order": null,
       "overflow": null,
       "overflow_x": null,
       "overflow_y": null,
       "padding": null,
       "right": null,
       "top": null,
       "visibility": null,
       "width": null
      }
     },
     "8e2f671cbd1d4813864e0b9041f3e6e5": {
      "model_module": "@jupyter-widgets/controls",
      "model_module_version": "1.5.0",
      "model_name": "DescriptionStyleModel",
      "state": {
       "_model_module": "@jupyter-widgets/controls",
       "_model_module_version": "1.5.0",
       "_model_name": "DescriptionStyleModel",
       "_view_count": null,
       "_view_module": "@jupyter-widgets/base",
       "_view_module_version": "1.2.0",
       "_view_name": "StyleView",
       "description_width": ""
      }
     },
     "8fc65b877acd4b0d97615f203f0524c8": {
      "model_module": "@jupyter-widgets/controls",
      "model_module_version": "1.5.0",
      "model_name": "FloatProgressModel",
      "state": {
       "_dom_classes": [],
       "_model_module": "@jupyter-widgets/controls",
       "_model_module_version": "1.5.0",
       "_model_name": "FloatProgressModel",
       "_view_count": null,
       "_view_module": "@jupyter-widgets/controls",
       "_view_module_version": "1.5.0",
       "_view_name": "ProgressView",
       "bar_style": "success",
       "description": "",
       "description_tooltip": null,
       "layout": "IPY_MODEL_f520c89be22945c9a925ae0ec3aeda92",
       "max": 440474526,
       "min": 0,
       "orientation": "horizontal",
       "style": "IPY_MODEL_f5b0c38f27114050ab92da5a8d76f6c4",
       "value": 440474526
      }
     },
     "960c4802122a4c44bf2692986b042080": {
      "model_module": "@jupyter-widgets/controls",
      "model_module_version": "1.5.0",
      "model_name": "DescriptionStyleModel",
      "state": {
       "_model_module": "@jupyter-widgets/controls",
       "_model_module_version": "1.5.0",
       "_model_name": "DescriptionStyleModel",
       "_view_count": null,
       "_view_module": "@jupyter-widgets/base",
       "_view_module_version": "1.2.0",
       "_view_name": "StyleView",
       "description_width": ""
      }
     },
     "9e4bc8debfa74b538c67ceecfa8378ee": {
      "model_module": "@jupyter-widgets/base",
      "model_module_version": "1.2.0",
      "model_name": "LayoutModel",
      "state": {
       "_model_module": "@jupyter-widgets/base",
       "_model_module_version": "1.2.0",
       "_model_name": "LayoutModel",
       "_view_count": null,
       "_view_module": "@jupyter-widgets/base",
       "_view_module_version": "1.2.0",
       "_view_name": "LayoutView",
       "align_content": null,
       "align_items": null,
       "align_self": null,
       "border": null,
       "bottom": null,
       "display": null,
       "flex": null,
       "flex_flow": null,
       "grid_area": null,
       "grid_auto_columns": null,
       "grid_auto_flow": null,
       "grid_auto_rows": null,
       "grid_column": null,
       "grid_gap": null,
       "grid_row": null,
       "grid_template_areas": null,
       "grid_template_columns": null,
       "grid_template_rows": null,
       "height": null,
       "justify_content": null,
       "justify_items": null,
       "left": null,
       "margin": null,
       "max_height": null,
       "max_width": null,
       "min_height": null,
       "min_width": null,
       "object_fit": null,
       "object_position": null,
       "order": null,
       "overflow": null,
       "overflow_x": null,
       "overflow_y": null,
       "padding": null,
       "right": null,
       "top": null,
       "visibility": null,
       "width": null
      }
     },
     "a35444337e7f46fe91177f92c1504916": {
      "model_module": "@jupyter-widgets/controls",
      "model_module_version": "1.5.0",
      "model_name": "FloatProgressModel",
      "state": {
       "_dom_classes": [],
       "_model_module": "@jupyter-widgets/controls",
       "_model_module_version": "1.5.0",
       "_model_name": "FloatProgressModel",
       "_view_count": null,
       "_view_module": "@jupyter-widgets/controls",
       "_view_module_version": "1.5.0",
       "_view_name": "ProgressView",
       "bar_style": "success",
       "description": "",
       "description_tooltip": null,
       "layout": "IPY_MODEL_9e4bc8debfa74b538c67ceecfa8378ee",
       "max": 221793,
       "min": 0,
       "orientation": "horizontal",
       "style": "IPY_MODEL_5a9bc21ac353423dbc5aa550fdaff01f",
       "value": 221793
      }
     },
     "a376edf956d9407b8fd3988c1a043716": {
      "model_module": "@jupyter-widgets/controls",
      "model_module_version": "1.5.0",
      "model_name": "DescriptionStyleModel",
      "state": {
       "_model_module": "@jupyter-widgets/controls",
       "_model_module_version": "1.5.0",
       "_model_name": "DescriptionStyleModel",
       "_view_count": null,
       "_view_module": "@jupyter-widgets/base",
       "_view_module_version": "1.2.0",
       "_view_name": "StyleView",
       "description_width": ""
      }
     },
     "abeaf08ebbba415f992f7fd519bbf34d": {
      "model_module": "@jupyter-widgets/base",
      "model_module_version": "1.2.0",
      "model_name": "LayoutModel",
      "state": {
       "_model_module": "@jupyter-widgets/base",
       "_model_module_version": "1.2.0",
       "_model_name": "LayoutModel",
       "_view_count": null,
       "_view_module": "@jupyter-widgets/base",
       "_view_module_version": "1.2.0",
       "_view_name": "LayoutView",
       "align_content": null,
       "align_items": null,
       "align_self": null,
       "border": null,
       "bottom": null,
       "display": null,
       "flex": null,
       "flex_flow": null,
       "grid_area": null,
       "grid_auto_columns": null,
       "grid_auto_flow": null,
       "grid_auto_rows": null,
       "grid_column": null,
       "grid_gap": null,
       "grid_row": null,
       "grid_template_areas": null,
       "grid_template_columns": null,
       "grid_template_rows": null,
       "height": null,
       "justify_content": null,
       "justify_items": null,
       "left": null,
       "margin": null,
       "max_height": null,
       "max_width": null,
       "min_height": null,
       "min_width": null,
       "object_fit": null,
       "object_position": null,
       "order": null,
       "overflow": null,
       "overflow_x": null,
       "overflow_y": null,
       "padding": null,
       "right": null,
       "top": null,
       "visibility": null,
       "width": null
      }
     },
     "aee684c5ddaa42e59ba0da00fed8f94b": {
      "model_module": "@jupyter-widgets/controls",
      "model_module_version": "1.5.0",
      "model_name": "HTMLModel",
      "state": {
       "_dom_classes": [],
       "_model_module": "@jupyter-widgets/controls",
       "_model_module_version": "1.5.0",
       "_model_name": "HTMLModel",
       "_view_count": null,
       "_view_module": "@jupyter-widgets/controls",
       "_view_module_version": "1.5.0",
       "_view_name": "HTMLView",
       "description": "",
       "description_tooltip": null,
       "layout": "IPY_MODEL_efc4629c10564f1c85a6566cc239d209",
       "placeholder": "​",
       "style": "IPY_MODEL_86113b3acb784ed28e86b66dff3d175b",
       "value": "Downloading (…)cial_tokens_map.json: 100%"
      }
     },
     "b65fc985dd9f4e9db398001c830e2fd0": {
      "model_module": "@jupyter-widgets/base",
      "model_module_version": "1.2.0",
      "model_name": "LayoutModel",
      "state": {
       "_model_module": "@jupyter-widgets/base",
       "_model_module_version": "1.2.0",
       "_model_name": "LayoutModel",
       "_view_count": null,
       "_view_module": "@jupyter-widgets/base",
       "_view_module_version": "1.2.0",
       "_view_name": "LayoutView",
       "align_content": null,
       "align_items": null,
       "align_self": null,
       "border": null,
       "bottom": null,
       "display": null,
       "flex": null,
       "flex_flow": null,
       "grid_area": null,
       "grid_auto_columns": null,
       "grid_auto_flow": null,
       "grid_auto_rows": null,
       "grid_column": null,
       "grid_gap": null,
       "grid_row": null,
       "grid_template_areas": null,
       "grid_template_columns": null,
       "grid_template_rows": null,
       "height": null,
       "justify_content": null,
       "justify_items": null,
       "left": null,
       "margin": null,
       "max_height": null,
       "max_width": null,
       "min_height": null,
       "min_width": null,
       "object_fit": null,
       "object_position": null,
       "order": null,
       "overflow": null,
       "overflow_x": null,
       "overflow_y": null,
       "padding": null,
       "right": null,
       "top": null,
       "visibility": null,
       "width": null
      }
     },
     "b669ff4e5c6f4098b9f527ac26ef1b96": {
      "model_module": "@jupyter-widgets/controls",
      "model_module_version": "1.5.0",
      "model_name": "DescriptionStyleModel",
      "state": {
       "_model_module": "@jupyter-widgets/controls",
       "_model_module_version": "1.5.0",
       "_model_name": "DescriptionStyleModel",
       "_view_count": null,
       "_view_module": "@jupyter-widgets/base",
       "_view_module_version": "1.2.0",
       "_view_name": "StyleView",
       "description_width": ""
      }
     },
     "bc6926d267b5454b83fb12e580b472c8": {
      "model_module": "@jupyter-widgets/base",
      "model_module_version": "1.2.0",
      "model_name": "LayoutModel",
      "state": {
       "_model_module": "@jupyter-widgets/base",
       "_model_module_version": "1.2.0",
       "_model_name": "LayoutModel",
       "_view_count": null,
       "_view_module": "@jupyter-widgets/base",
       "_view_module_version": "1.2.0",
       "_view_name": "LayoutView",
       "align_content": null,
       "align_items": null,
       "align_self": null,
       "border": null,
       "bottom": null,
       "display": null,
       "flex": null,
       "flex_flow": null,
       "grid_area": null,
       "grid_auto_columns": null,
       "grid_auto_flow": null,
       "grid_auto_rows": null,
       "grid_column": null,
       "grid_gap": null,
       "grid_row": null,
       "grid_template_areas": null,
       "grid_template_columns": null,
       "grid_template_rows": null,
       "height": null,
       "justify_content": null,
       "justify_items": null,
       "left": null,
       "margin": null,
       "max_height": null,
       "max_width": null,
       "min_height": null,
       "min_width": null,
       "object_fit": null,
       "object_position": null,
       "order": null,
       "overflow": null,
       "overflow_x": null,
       "overflow_y": null,
       "padding": null,
       "right": null,
       "top": null,
       "visibility": null,
       "width": null
      }
     },
     "c0751a8098f44ffdb4b4f1cf649dd09f": {
      "model_module": "@jupyter-widgets/controls",
      "model_module_version": "1.5.0",
      "model_name": "FloatProgressModel",
      "state": {
       "_dom_classes": [],
       "_model_module": "@jupyter-widgets/controls",
       "_model_module_version": "1.5.0",
       "_model_name": "FloatProgressModel",
       "_view_count": null,
       "_view_module": "@jupyter-widgets/controls",
       "_view_module_version": "1.5.0",
       "_view_name": "ProgressView",
       "bar_style": "success",
       "description": "",
       "description_tooltip": null,
       "layout": "IPY_MODEL_25d66b398b764f5c86ec7e4422994d30",
       "max": 112,
       "min": 0,
       "orientation": "horizontal",
       "style": "IPY_MODEL_4a76fe114462473eb5d9016717b29e57",
       "value": 112
      }
     },
     "c20e0b4aea34425c87a736794fd56c98": {
      "model_module": "@jupyter-widgets/controls",
      "model_module_version": "1.5.0",
      "model_name": "HTMLModel",
      "state": {
       "_dom_classes": [],
       "_model_module": "@jupyter-widgets/controls",
       "_model_module_version": "1.5.0",
       "_model_name": "HTMLModel",
       "_view_count": null,
       "_view_module": "@jupyter-widgets/controls",
       "_view_module_version": "1.5.0",
       "_view_name": "HTMLView",
       "description": "",
       "description_tooltip": null,
       "layout": "IPY_MODEL_3486d212fc234f5a8cab1014bede1c5c",
       "placeholder": "​",
       "style": "IPY_MODEL_ed81db333dd64a5aa342122f1291d1d2",
       "value": " 440M/440M [00:01&lt;00:00, 321MB/s]"
      }
     },
     "c5d551d827b2451abca501953118bc72": {
      "model_module": "@jupyter-widgets/controls",
      "model_module_version": "1.5.0",
      "model_name": "HBoxModel",
      "state": {
       "_dom_classes": [],
       "_model_module": "@jupyter-widgets/controls",
       "_model_module_version": "1.5.0",
       "_model_name": "HBoxModel",
       "_view_count": null,
       "_view_module": "@jupyter-widgets/controls",
       "_view_module_version": "1.5.0",
       "_view_name": "HBoxView",
       "box_style": "",
       "children": [
        "IPY_MODEL_aee684c5ddaa42e59ba0da00fed8f94b",
        "IPY_MODEL_c0751a8098f44ffdb4b4f1cf649dd09f",
        "IPY_MODEL_2c41825ca0fe4a34b2b4e961de9c339e"
       ],
       "layout": "IPY_MODEL_2bb2bbec85da435aa96056be5c7cf001"
      }
     },
     "c5f1232a0c1b4664a45353912233926d": {
      "model_module": "@jupyter-widgets/base",
      "model_module_version": "1.2.0",
      "model_name": "LayoutModel",
      "state": {
       "_model_module": "@jupyter-widgets/base",
       "_model_module_version": "1.2.0",
       "_model_name": "LayoutModel",
       "_view_count": null,
       "_view_module": "@jupyter-widgets/base",
       "_view_module_version": "1.2.0",
       "_view_name": "LayoutView",
       "align_content": null,
       "align_items": null,
       "align_self": null,
       "border": null,
       "bottom": null,
       "display": null,
       "flex": null,
       "flex_flow": null,
       "grid_area": null,
       "grid_auto_columns": null,
       "grid_auto_flow": null,
       "grid_auto_rows": null,
       "grid_column": null,
       "grid_gap": null,
       "grid_row": null,
       "grid_template_areas": null,
       "grid_template_columns": null,
       "grid_template_rows": null,
       "height": null,
       "justify_content": null,
       "justify_items": null,
       "left": null,
       "margin": null,
       "max_height": null,
       "max_width": null,
       "min_height": null,
       "min_width": null,
       "object_fit": null,
       "object_position": null,
       "order": null,
       "overflow": null,
       "overflow_x": null,
       "overflow_y": null,
       "padding": null,
       "right": null,
       "top": null,
       "visibility": null,
       "width": null
      }
     },
     "d4245a5309374cd49584eaf2af25f5ce": {
      "model_module": "@jupyter-widgets/base",
      "model_module_version": "1.2.0",
      "model_name": "LayoutModel",
      "state": {
       "_model_module": "@jupyter-widgets/base",
       "_model_module_version": "1.2.0",
       "_model_name": "LayoutModel",
       "_view_count": null,
       "_view_module": "@jupyter-widgets/base",
       "_view_module_version": "1.2.0",
       "_view_name": "LayoutView",
       "align_content": null,
       "align_items": null,
       "align_self": null,
       "border": null,
       "bottom": null,
       "display": null,
       "flex": null,
       "flex_flow": null,
       "grid_area": null,
       "grid_auto_columns": null,
       "grid_auto_flow": null,
       "grid_auto_rows": null,
       "grid_column": null,
       "grid_gap": null,
       "grid_row": null,
       "grid_template_areas": null,
       "grid_template_columns": null,
       "grid_template_rows": null,
       "height": null,
       "justify_content": null,
       "justify_items": null,
       "left": null,
       "margin": null,
       "max_height": null,
       "max_width": null,
       "min_height": null,
       "min_width": null,
       "object_fit": null,
       "object_position": null,
       "order": null,
       "overflow": null,
       "overflow_x": null,
       "overflow_y": null,
       "padding": null,
       "right": null,
       "top": null,
       "visibility": null,
       "width": null
      }
     },
     "d87e9638b7eb47be80f1672f088878c6": {
      "model_module": "@jupyter-widgets/base",
      "model_module_version": "1.2.0",
      "model_name": "LayoutModel",
      "state": {
       "_model_module": "@jupyter-widgets/base",
       "_model_module_version": "1.2.0",
       "_model_name": "LayoutModel",
       "_view_count": null,
       "_view_module": "@jupyter-widgets/base",
       "_view_module_version": "1.2.0",
       "_view_name": "LayoutView",
       "align_content": null,
       "align_items": null,
       "align_self": null,
       "border": null,
       "bottom": null,
       "display": null,
       "flex": null,
       "flex_flow": null,
       "grid_area": null,
       "grid_auto_columns": null,
       "grid_auto_flow": null,
       "grid_auto_rows": null,
       "grid_column": null,
       "grid_gap": null,
       "grid_row": null,
       "grid_template_areas": null,
       "grid_template_columns": null,
       "grid_template_rows": null,
       "height": null,
       "justify_content": null,
       "justify_items": null,
       "left": null,
       "margin": null,
       "max_height": null,
       "max_width": null,
       "min_height": null,
       "min_width": null,
       "object_fit": null,
       "object_position": null,
       "order": null,
       "overflow": null,
       "overflow_x": null,
       "overflow_y": null,
       "padding": null,
       "right": null,
       "top": null,
       "visibility": null,
       "width": null
      }
     },
     "e643da9041ed47038d6160997722cb63": {
      "model_module": "@jupyter-widgets/controls",
      "model_module_version": "1.5.0",
      "model_name": "DescriptionStyleModel",
      "state": {
       "_model_module": "@jupyter-widgets/controls",
       "_model_module_version": "1.5.0",
       "_model_name": "DescriptionStyleModel",
       "_view_count": null,
       "_view_module": "@jupyter-widgets/base",
       "_view_module_version": "1.2.0",
       "_view_name": "StyleView",
       "description_width": ""
      }
     },
     "ebe2d111842c4b1fbaac668e8d3c37eb": {
      "model_module": "@jupyter-widgets/controls",
      "model_module_version": "1.5.0",
      "model_name": "HTMLModel",
      "state": {
       "_dom_classes": [],
       "_model_module": "@jupyter-widgets/controls",
       "_model_module_version": "1.5.0",
       "_model_name": "HTMLModel",
       "_view_count": null,
       "_view_module": "@jupyter-widgets/controls",
       "_view_module_version": "1.5.0",
       "_view_name": "HTMLView",
       "description": "",
       "description_tooltip": null,
       "layout": "IPY_MODEL_c5f1232a0c1b4664a45353912233926d",
       "placeholder": "​",
       "style": "IPY_MODEL_a376edf956d9407b8fd3988c1a043716",
       "value": " 222k/222k [00:00&lt;00:00, 893kB/s]"
      }
     },
     "ed81db333dd64a5aa342122f1291d1d2": {
      "model_module": "@jupyter-widgets/controls",
      "model_module_version": "1.5.0",
      "model_name": "DescriptionStyleModel",
      "state": {
       "_model_module": "@jupyter-widgets/controls",
       "_model_module_version": "1.5.0",
       "_model_name": "DescriptionStyleModel",
       "_view_count": null,
       "_view_module": "@jupyter-widgets/base",
       "_view_module_version": "1.2.0",
       "_view_name": "StyleView",
       "description_width": ""
      }
     },
     "efc4629c10564f1c85a6566cc239d209": {
      "model_module": "@jupyter-widgets/base",
      "model_module_version": "1.2.0",
      "model_name": "LayoutModel",
      "state": {
       "_model_module": "@jupyter-widgets/base",
       "_model_module_version": "1.2.0",
       "_model_name": "LayoutModel",
       "_view_count": null,
       "_view_module": "@jupyter-widgets/base",
       "_view_module_version": "1.2.0",
       "_view_name": "LayoutView",
       "align_content": null,
       "align_items": null,
       "align_self": null,
       "border": null,
       "bottom": null,
       "display": null,
       "flex": null,
       "flex_flow": null,
       "grid_area": null,
       "grid_auto_columns": null,
       "grid_auto_flow": null,
       "grid_auto_rows": null,
       "grid_column": null,
       "grid_gap": null,
       "grid_row": null,
       "grid_template_areas": null,
       "grid_template_columns": null,
       "grid_template_rows": null,
       "height": null,
       "justify_content": null,
       "justify_items": null,
       "left": null,
       "margin": null,
       "max_height": null,
       "max_width": null,
       "min_height": null,
       "min_width": null,
       "object_fit": null,
       "object_position": null,
       "order": null,
       "overflow": null,
       "overflow_x": null,
       "overflow_y": null,
       "padding": null,
       "right": null,
       "top": null,
       "visibility": null,
       "width": null
      }
     },
     "f520c89be22945c9a925ae0ec3aeda92": {
      "model_module": "@jupyter-widgets/base",
      "model_module_version": "1.2.0",
      "model_name": "LayoutModel",
      "state": {
       "_model_module": "@jupyter-widgets/base",
       "_model_module_version": "1.2.0",
       "_model_name": "LayoutModel",
       "_view_count": null,
       "_view_module": "@jupyter-widgets/base",
       "_view_module_version": "1.2.0",
       "_view_name": "LayoutView",
       "align_content": null,
       "align_items": null,
       "align_self": null,
       "border": null,
       "bottom": null,
       "display": null,
       "flex": null,
       "flex_flow": null,
       "grid_area": null,
       "grid_auto_columns": null,
       "grid_auto_flow": null,
       "grid_auto_rows": null,
       "grid_column": null,
       "grid_gap": null,
       "grid_row": null,
       "grid_template_areas": null,
       "grid_template_columns": null,
       "grid_template_rows": null,
       "height": null,
       "justify_content": null,
       "justify_items": null,
       "left": null,
       "margin": null,
       "max_height": null,
       "max_width": null,
       "min_height": null,
       "min_width": null,
       "object_fit": null,
       "object_position": null,
       "order": null,
       "overflow": null,
       "overflow_x": null,
       "overflow_y": null,
       "padding": null,
       "right": null,
       "top": null,
       "visibility": null,
       "width": null
      }
     },
     "f5918fb76677479e8418d11819a44a24": {
      "model_module": "@jupyter-widgets/base",
      "model_module_version": "1.2.0",
      "model_name": "LayoutModel",
      "state": {
       "_model_module": "@jupyter-widgets/base",
       "_model_module_version": "1.2.0",
       "_model_name": "LayoutModel",
       "_view_count": null,
       "_view_module": "@jupyter-widgets/base",
       "_view_module_version": "1.2.0",
       "_view_name": "LayoutView",
       "align_content": null,
       "align_items": null,
       "align_self": null,
       "border": null,
       "bottom": null,
       "display": null,
       "flex": null,
       "flex_flow": null,
       "grid_area": null,
       "grid_auto_columns": null,
       "grid_auto_flow": null,
       "grid_auto_rows": null,
       "grid_column": null,
       "grid_gap": null,
       "grid_row": null,
       "grid_template_areas": null,
       "grid_template_columns": null,
       "grid_template_rows": null,
       "height": null,
       "justify_content": null,
       "justify_items": null,
       "left": null,
       "margin": null,
       "max_height": null,
       "max_width": null,
       "min_height": null,
       "min_width": null,
       "object_fit": null,
       "object_position": null,
       "order": null,
       "overflow": null,
       "overflow_x": null,
       "overflow_y": null,
       "padding": null,
       "right": null,
       "top": null,
       "visibility": null,
       "width": null
      }
     },
     "f5b0c38f27114050ab92da5a8d76f6c4": {
      "model_module": "@jupyter-widgets/controls",
      "model_module_version": "1.5.0",
      "model_name": "ProgressStyleModel",
      "state": {
       "_model_module": "@jupyter-widgets/controls",
       "_model_module_version": "1.5.0",
       "_model_name": "ProgressStyleModel",
       "_view_count": null,
       "_view_module": "@jupyter-widgets/base",
       "_view_module_version": "1.2.0",
       "_view_name": "StyleView",
       "bar_color": null,
       "description_width": ""
      }
     },
     "ff26cbe1c8a94eb79eb3041732eb98e7": {
      "model_module": "@jupyter-widgets/controls",
      "model_module_version": "1.5.0",
      "model_name": "HBoxModel",
      "state": {
       "_dom_classes": [],
       "_model_module": "@jupyter-widgets/controls",
       "_model_module_version": "1.5.0",
       "_model_name": "HBoxModel",
       "_view_count": null,
       "_view_module": "@jupyter-widgets/controls",
       "_view_module_version": "1.5.0",
       "_view_name": "HBoxView",
       "box_style": "",
       "children": [
        "IPY_MODEL_1ea379eef4f74c5ab9210b466f204b8f",
        "IPY_MODEL_2c306b33501f4e4b8314c9cf6a03e024",
        "IPY_MODEL_083cfb8cb3ae4671971bde7901948abd"
       ],
       "layout": "IPY_MODEL_3c698ea8696f4bcaae6c6e0b9d568982"
      }
     }
    },
    "version_major": 2,
    "version_minor": 0
   }
  }
 },
 "nbformat": 4,
 "nbformat_minor": 5
}
